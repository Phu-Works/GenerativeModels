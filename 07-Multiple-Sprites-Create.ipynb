{
 "cells": [
  {
   "cell_type": "code",
   "execution_count": 1,
   "metadata": {},
   "outputs": [],
   "source": [
    "import tensorflow as tf \n",
    "tf.enable_eager_execution()"
   ]
  },
  {
   "cell_type": "code",
   "execution_count": 2,
   "metadata": {},
   "outputs": [],
   "source": [
    "import numpy as np\n",
    "import matplotlib.pyplot as plt\n",
    "import cv2\n",
    "import itertools\n",
    "import os\n",
    "\n",
    "from tqdm import tqdm"
   ]
  },
  {
   "cell_type": "code",
   "execution_count": 3,
   "metadata": {},
   "outputs": [
    {
     "name": "stdout",
     "output_type": "stream",
     "text": [
      "Metadata: \n",
      " {b'date': b'April 2017', b'description': b'Disentanglement test Sprites dataset.Procedurally generated 2D shapes, from 6 disentangled latent factors.This dataset uses 6 latents, controlling the color, shape, scale, rotation and position of a sprite. All possible variations of the latents are present. Ordering along dimension 1 is fixed and can be mapped back to the exact latent values that generated that image.We made sure that the pixel outputs are different. No noise added.', b'version': 1, b'latents_names': (b'color', b'shape', b'scale', b'orientation', b'posX', b'posY'), b'latents_possible_values': {b'orientation': array([0.        , 0.16110732, 0.32221463, 0.48332195, 0.64442926,\n",
      "       0.80553658, 0.96664389, 1.12775121, 1.28885852, 1.44996584,\n",
      "       1.61107316, 1.77218047, 1.93328779, 2.0943951 , 2.25550242,\n",
      "       2.41660973, 2.57771705, 2.73882436, 2.89993168, 3.061039  ,\n",
      "       3.22214631, 3.38325363, 3.54436094, 3.70546826, 3.86657557,\n",
      "       4.02768289, 4.1887902 , 4.34989752, 4.51100484, 4.67211215,\n",
      "       4.83321947, 4.99432678, 5.1554341 , 5.31654141, 5.47764873,\n",
      "       5.63875604, 5.79986336, 5.96097068, 6.12207799, 6.28318531]), b'posX': array([0.        , 0.03225806, 0.06451613, 0.09677419, 0.12903226,\n",
      "       0.16129032, 0.19354839, 0.22580645, 0.25806452, 0.29032258,\n",
      "       0.32258065, 0.35483871, 0.38709677, 0.41935484, 0.4516129 ,\n",
      "       0.48387097, 0.51612903, 0.5483871 , 0.58064516, 0.61290323,\n",
      "       0.64516129, 0.67741935, 0.70967742, 0.74193548, 0.77419355,\n",
      "       0.80645161, 0.83870968, 0.87096774, 0.90322581, 0.93548387,\n",
      "       0.96774194, 1.        ]), b'posY': array([0.        , 0.03225806, 0.06451613, 0.09677419, 0.12903226,\n",
      "       0.16129032, 0.19354839, 0.22580645, 0.25806452, 0.29032258,\n",
      "       0.32258065, 0.35483871, 0.38709677, 0.41935484, 0.4516129 ,\n",
      "       0.48387097, 0.51612903, 0.5483871 , 0.58064516, 0.61290323,\n",
      "       0.64516129, 0.67741935, 0.70967742, 0.74193548, 0.77419355,\n",
      "       0.80645161, 0.83870968, 0.87096774, 0.90322581, 0.93548387,\n",
      "       0.96774194, 1.        ]), b'scale': array([0.5, 0.6, 0.7, 0.8, 0.9, 1. ]), b'shape': array([1., 2., 3.]), b'color': array([1.])}, b'latents_sizes': array([ 1,  3,  6, 40, 32, 32]), b'author': b'lmatthey@google.com', b'title': b'dSprites dataset'}\n"
     ]
    }
   ],
   "source": [
    "## Code from Deepmind's Github\n",
    "load_data = np.load(\"dsprites-dataset/dsprites_ndarray_co1sh3sc6or40x32y32_64x64.npz\", encoding='bytes')\n",
    "imgs = load_data['imgs']\n",
    "latents_values = load_data['latents_values']\n",
    "latents_classes = load_data['latents_classes']\n",
    "metadata = load_data['metadata'][()]\n",
    "\n",
    "experiment_name = \"VAEMultipleSpriteColor\"\n",
    "is_color = False\n",
    "\n",
    "print('Metadata: \\n', metadata)"
   ]
  },
  {
   "cell_type": "code",
   "execution_count": 4,
   "metadata": {},
   "outputs": [],
   "source": [
    "latents_sizes = metadata[b'latents_sizes']\n",
    "latents_bases = np.concatenate((latents_sizes[::-1].cumprod()[::-1][1:],\n",
    "                                np.array([1,])))\n",
    "\n",
    "def latent_to_index(latents):\n",
    "    return np.dot(latents, latents_bases).astype(int)\n",
    "\n",
    "def sample_latent(size=1):\n",
    "    samples = np.zeros((size, latents_sizes.size))\n",
    "    for lat_i, lat_size in enumerate(latents_sizes):\n",
    "        samples[:, lat_i] = np.random.randint(lat_size, size=size)\n",
    "\n",
    "    return samples\n",
    "\n",
    "def show_images_grid(imgs_, num_images=25, cmap='Greys_r'):\n",
    "    ncols = int(np.ceil(num_images**0.5))\n",
    "    nrows = int(np.ceil(num_images / ncols))\n",
    "    _, axes = plt.subplots(ncols, nrows, figsize=(nrows * 3, ncols * 3))\n",
    "    axes = axes.flatten()\n",
    "\n",
    "    for ax_i, ax in enumerate(axes):\n",
    "        if ax_i < num_images:\n",
    "            if not cmap is None:\n",
    "                ax.imshow(imgs_[ax_i], cmap=cmap,  interpolation='nearest')\n",
    "            else:\n",
    "                ax.imshow(imgs_[ax_i]*255, interpolation='nearest')\n",
    "            ax.set_xticks([])\n",
    "            ax.set_yticks([])\n",
    "        else:\n",
    "            ax.axis('off')"
   ]
  },
  {
   "cell_type": "code",
   "execution_count": 5,
   "metadata": {},
   "outputs": [
    {
     "data": {
      "image/png": "[encoded data removed]",
      "text/plain": [
       "<matplotlib.figure.Figure at 0x183378bf98>"
      ]
     },
     "metadata": {},
     "output_type": "display_data"
    }
   ],
   "source": [
    "latents_sampled = sample_latent(size=200)\n",
    "indices_sampled = latent_to_index(latents_sampled)\n",
    "imgs_sampled = imgs[indices_sampled]\n",
    "\n",
    "show_images_grid(imgs_sampled, 9, cmap='gray')"
   ]
  },
  {
   "cell_type": "code",
   "execution_count": 6,
   "metadata": {},
   "outputs": [],
   "source": [
    "def create_color(base_image):\n",
    "    all_color = itertools.product([0, 1], repeat=3)\n",
    "    all_images = []\n",
    "    for r, g, b in all_color:\n",
    "        if (r, g, b) == (0, 0, 0):\n",
    "            continue\n",
    "        new_color = np.stack([\n",
    "            base_image*r,\n",
    "            base_image*g,\n",
    "            base_image*b\n",
    "        ], axis=-1)\n",
    "\n",
    "        all_images.append(new_color)\n",
    "    return all_images"
   ]
  },
  {
   "cell_type": "code",
   "execution_count": 7,
   "metadata": {},
   "outputs": [
    {
     "name": "stdout",
     "output_type": "stream",
     "text": [
      "19900\n"
     ]
    }
   ],
   "source": [
    "all_combination_length = len(list(itertools.combinations(imgs_sampled, r=2)))\n",
    "print(all_combination_length)"
   ]
  },
  {
   "cell_type": "code",
   "execution_count": 8,
   "metadata": {},
   "outputs": [],
   "source": [
    "if is_color:\n",
    "    for batch in range(5):\n",
    "        latents_sampled = sample_latent(size=200)\n",
    "        indices_sampled = latent_to_index(latents_sampled)\n",
    "        imgs_sampled = imgs[indices_sampled]\n",
    "        t = []\n",
    "        with tqdm(total=all_combination_length) as pbar:\n",
    "            for i, (a, b) in enumerate(itertools.combinations(imgs_sampled, r=2)):\n",
    "                a = create_color(a)\n",
    "                b = create_color(b)\n",
    "\n",
    "                for c1, c2 in itertools.product(a, b):\n",
    "                    total = c1 + c2\n",
    "                    total[total > 1] = 1\n",
    "                    t.append(total)\n",
    "\n",
    "                pbar.update(1)\n",
    "\n",
    "        t = np.stack(t)\n",
    "        t = np.reshape(t, (-1, 64, 64, 3))\n",
    "        np.savez_compressed(f'dsprites-dataset/dsprites_multiple_shapes{batch}.npz', data=t)"
   ]
  },
  {
   "cell_type": "code",
   "execution_count": 9,
   "metadata": {},
   "outputs": [],
   "source": [
    "all_combination_length = len(list(itertools.combinations(range(1000), r=2)))"
   ]
  },
  {
   "cell_type": "code",
   "execution_count": 10,
   "metadata": {},
   "outputs": [
    {
     "name": "stderr",
     "output_type": "stream",
     "text": [
      "100%|██████████| 499500/499500 [00:05<00:00, 97014.82it/s] \n",
      "100%|██████████| 499500/499500 [00:04<00:00, 101458.61it/s]\n",
      "100%|██████████| 499500/499500 [00:04<00:00, 111719.90it/s]\n",
      "100%|██████████| 499500/499500 [00:04<00:00, 109179.25it/s]\n",
      "100%|██████████| 499500/499500 [00:04<00:00, 100592.67it/s]\n"
     ]
    }
   ],
   "source": [
    "if not is_color:\n",
    "    all_batches = []\n",
    "    for batch in range(5):\n",
    "        latents_sampled = sample_latent(size=1000)\n",
    "        indices_sampled = latent_to_index(latents_sampled)\n",
    "        imgs_sampled = imgs[indices_sampled]\n",
    "        t = []\n",
    "        with tqdm(total=all_combination_length) as pbar:\n",
    "            for i, (a, b) in enumerate(itertools.combinations(imgs_sampled, r=2)):\n",
    "                total = a + b\n",
    "                total[total > 1] = 1\n",
    "                t.append(total)\n",
    "\n",
    "                pbar.update(1)\n",
    "\n",
    "        t = np.stack(t)\n",
    "        t = np.reshape(t, (-1, 64, 64, 1))\n",
    "    \n",
    "        all_batches.append(t)\n",
    "    \n",
    "    total_batches = np.concatenate(all_batches, axis=0)\n",
    "    print(total_batches.shape)\n",
    "    np.save(f'dsprites-dataset/dsprites_multiple_shapes_no_color.npz', total_batches)"
   ]
  },
  {
   "cell_type": "code",
   "execution_count": 14,
   "metadata": {},
   "outputs": [
    {
     "data": {
      "image/png": "[encoded data removed]",
      "text/plain": [
       "<matplotlib.figure.Figure at 0x18ebc31048>"
      ]
     },
     "metadata": {},
     "output_type": "display_data"
    }
   ],
   "source": [
    "show_images_grid(np.squeeze(total_batches), 9, cmap='gray')"
   ]
  },
  {
   "cell_type": "code",
   "execution_count": 12,
   "metadata": {},
   "outputs": [],
   "source": []
  },
  {
   "cell_type": "code",
   "execution_count": null,
   "metadata": {},
   "outputs": [],
   "source": []
  }
 ],
 "metadata": {
  "kernelspec": {
   "display_name": "Python 3",
   "language": "python",
   "name": "python3"
  },
  "language_info": {
   "codemirror_mode": {
    "name": "ipython",
    "version": 3
   },
   "file_extension": ".py",
   "mimetype": "text/x-python",
   "name": "python",
   "nbconvert_exporter": "python",
   "pygments_lexer": "ipython3",
   "version": "3.6.6"
  }
 },
 "nbformat": 4,
 "nbformat_minor": 2
}
