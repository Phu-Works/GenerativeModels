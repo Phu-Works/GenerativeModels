{
 "cells": [
  {
   "cell_type": "code",
   "execution_count": 1,
   "metadata": {},
   "outputs": [],
   "source": [
    "# !git clone https://github.com/deepmind/dsprites-dataset.git"
   ]
  },
  {
   "cell_type": "code",
   "execution_count": 2,
   "metadata": {},
   "outputs": [],
   "source": [
    "import tensorflow as tf \n",
    "tf.enable_eager_execution()"
   ]
  },
  {
   "cell_type": "code",
   "execution_count": 3,
   "metadata": {},
   "outputs": [],
   "source": [
    "import numpy as np\n",
    "import matplotlib.pyplot as plt\n",
    "import cv2\n",
    "import itertools"
   ]
  },
  {
   "cell_type": "code",
   "execution_count": 4,
   "metadata": {},
   "outputs": [
    {
     "name": "stdout",
     "output_type": "stream",
     "text": [
      "Metadata: \n",
      " {b'date': b'April 2017', b'description': b'Disentanglement test Sprites dataset.Procedurally generated 2D shapes, from 6 disentangled latent factors.This dataset uses 6 latents, controlling the color, shape, scale, rotation and position of a sprite. All possible variations of the latents are present. Ordering along dimension 1 is fixed and can be mapped back to the exact latent values that generated that image.We made sure that the pixel outputs are different. No noise added.', b'version': 1, b'latents_names': (b'color', b'shape', b'scale', b'orientation', b'posX', b'posY'), b'latents_possible_values': {b'orientation': array([0.        , 0.16110732, 0.32221463, 0.48332195, 0.64442926,\n",
      "       0.80553658, 0.96664389, 1.12775121, 1.28885852, 1.44996584,\n",
      "       1.61107316, 1.77218047, 1.93328779, 2.0943951 , 2.25550242,\n",
      "       2.41660973, 2.57771705, 2.73882436, 2.89993168, 3.061039  ,\n",
      "       3.22214631, 3.38325363, 3.54436094, 3.70546826, 3.86657557,\n",
      "       4.02768289, 4.1887902 , 4.34989752, 4.51100484, 4.67211215,\n",
      "       4.83321947, 4.99432678, 5.1554341 , 5.31654141, 5.47764873,\n",
      "       5.63875604, 5.79986336, 5.96097068, 6.12207799, 6.28318531]), b'posX': array([0.        , 0.03225806, 0.06451613, 0.09677419, 0.12903226,\n",
      "       0.16129032, 0.19354839, 0.22580645, 0.25806452, 0.29032258,\n",
      "       0.32258065, 0.35483871, 0.38709677, 0.41935484, 0.4516129 ,\n",
      "       0.48387097, 0.51612903, 0.5483871 , 0.58064516, 0.61290323,\n",
      "       0.64516129, 0.67741935, 0.70967742, 0.74193548, 0.77419355,\n",
      "       0.80645161, 0.83870968, 0.87096774, 0.90322581, 0.93548387,\n",
      "       0.96774194, 1.        ]), b'posY': array([0.        , 0.03225806, 0.06451613, 0.09677419, 0.12903226,\n",
      "       0.16129032, 0.19354839, 0.22580645, 0.25806452, 0.29032258,\n",
      "       0.32258065, 0.35483871, 0.38709677, 0.41935484, 0.4516129 ,\n",
      "       0.48387097, 0.51612903, 0.5483871 , 0.58064516, 0.61290323,\n",
      "       0.64516129, 0.67741935, 0.70967742, 0.74193548, 0.77419355,\n",
      "       0.80645161, 0.83870968, 0.87096774, 0.90322581, 0.93548387,\n",
      "       0.96774194, 1.        ]), b'scale': array([0.5, 0.6, 0.7, 0.8, 0.9, 1. ]), b'shape': array([1., 2., 3.]), b'color': array([1.])}, b'latents_sizes': array([ 1,  3,  6, 40, 32, 32]), b'author': b'lmatthey@google.com', b'title': b'dSprites dataset'}\n"
     ]
    }
   ],
   "source": [
    "## Code from Deepmind's Github\n",
    "load_data = np.load(\"dsprites-dataset/dsprites_ndarray_co1sh3sc6or40x32y32_64x64.npz\", encoding='bytes')\n",
    "imgs = load_data['imgs']\n",
    "latents_values = load_data['latents_values']\n",
    "latents_classes = load_data['latents_classes']\n",
    "metadata = load_data['metadata'][()]\n",
    "\n",
    "print('Metadata: \\n', metadata)"
   ]
  },
  {
   "cell_type": "code",
   "execution_count": 5,
   "metadata": {},
   "outputs": [],
   "source": [
    "latents_sizes = metadata[b'latents_sizes']\n",
    "latents_bases = np.concatenate((latents_sizes[::-1].cumprod()[::-1][1:],\n",
    "                                np.array([1,])))\n",
    "\n",
    "def latent_to_index(latents):\n",
    "    return np.dot(latents, latents_bases).astype(int)\n",
    "\n",
    "def sample_latent(size=1):\n",
    "    samples = np.zeros((size, latents_sizes.size))\n",
    "    for lat_i, lat_size in enumerate(latents_sizes):\n",
    "        samples[:, lat_i] = np.random.randint(lat_size, size=size)\n",
    "\n",
    "    return samples\n",
    "\n",
    "def show_images_grid(imgs_, num_images=25, cmap='Greys_r'):\n",
    "    ncols = int(np.ceil(num_images**0.5))\n",
    "    nrows = int(np.ceil(num_images / ncols))\n",
    "    _, axes = plt.subplots(ncols, nrows, figsize=(nrows * 3, ncols * 3))\n",
    "    axes = axes.flatten()\n",
    "\n",
    "    for ax_i, ax in enumerate(axes):\n",
    "        if ax_i < num_images:\n",
    "            if not cmap is None:\n",
    "                ax.imshow(imgs_[ax_i], cmap=cmap,  interpolation='nearest')\n",
    "            else:\n",
    "                ax.imshow(imgs_[ax_i]*255, interpolation='nearest')\n",
    "            ax.set_xticks([])\n",
    "            ax.set_yticks([])\n",
    "        else:\n",
    "            ax.axis('off')"
   ]
  },
  {
   "cell_type": "code",
   "execution_count": 6,
   "metadata": {},
   "outputs": [
    {
     "data": {
      "image/png": "[encoded data removed]",
      "text/plain": [
       "<matplotlib.figure.Figure at 0x1828ce40f0>"
      ]
     },
     "metadata": {},
     "output_type": "display_data"
    }
   ],
   "source": [
    "latents_sampled = sample_latent(size=60000)\n",
    "latents_sampled[:, 1] = 1\n",
    "indices_sampled = latent_to_index(latents_sampled)\n",
    "imgs_sampled = imgs[indices_sampled]\n",
    "\n",
    "show_images_grid(imgs_sampled, 9, cmap='gray')"
   ]
  },
  {
   "cell_type": "code",
   "execution_count": 7,
   "metadata": {},
   "outputs": [
    {
     "data": {
      "text/plain": [
       "array([[0, 0, 0, ..., 0, 0, 0],\n",
       "       [0, 0, 0, ..., 0, 0, 0],\n",
       "       [0, 0, 0, ..., 0, 0, 0],\n",
       "       ...,\n",
       "       [0, 0, 0, ..., 0, 0, 0],\n",
       "       [0, 0, 0, ..., 0, 0, 0],\n",
       "       [0, 0, 0, ..., 0, 0, 0]], dtype=uint8)"
      ]
     },
     "execution_count": 7,
     "metadata": {},
     "output_type": "execute_result"
    }
   ],
   "source": [
    "imgs_sampled[0]"
   ]
  },
  {
   "cell_type": "code",
   "execution_count": 8,
   "metadata": {},
   "outputs": [],
   "source": [
    "def create_color(base_image):\n",
    "    all_color = itertools.product([0, 1], repeat=3)\n",
    "    all_images = []\n",
    "    for r, g, b in all_color:\n",
    "        if (r, g, b) == (0, 0, 0):\n",
    "            continue\n",
    "        new_color = np.stack([\n",
    "            base_image*r,\n",
    "            base_image*g,\n",
    "            base_image*b\n",
    "        ], axis=-1)\n",
    "\n",
    "        all_images.append(new_color)\n",
    "    return all_images"
   ]
  },
  {
   "cell_type": "code",
   "execution_count": 9,
   "metadata": {},
   "outputs": [
    {
     "name": "stdout",
     "output_type": "stream",
     "text": [
      "Now at 0/60000\n",
      "Now at 10000/60000\n",
      "Now at 20000/60000\n",
      "Now at 30000/60000\n",
      "Now at 40000/60000\n",
      "Now at 50000/60000\n"
     ]
    },
    {
     "data": {
      "text/plain": [
       "(420000, 64, 64, 3)"
      ]
     },
     "execution_count": 9,
     "metadata": {},
     "output_type": "execute_result"
    }
   ],
   "source": [
    "all_images_color = []\n",
    "\n",
    "for i, img in enumerate(imgs_sampled):\n",
    "    if i%10000 == 0:\n",
    "        print(f\"Now at {i}/{imgs_sampled.shape[0]}\")\n",
    "    all_images_color += create_color(img)\n",
    "    \n",
    "imgs_sampled_color = np.stack(all_images_color)\n",
    "imgs_sampled_color.shape"
   ]
  },
  {
   "cell_type": "code",
   "execution_count": 10,
   "metadata": {},
   "outputs": [
    {
     "data": {
      "image/png": "[encoded data removed]",
      "text/plain": [
       "<matplotlib.figure.Figure at 0x18e1540390>"
      ]
     },
     "metadata": {},
     "output_type": "display_data"
    }
   ],
   "source": [
    "show_images_grid(imgs_sampled_color, 9, cmap=None)"
   ]
  },
  {
   "cell_type": "code",
   "execution_count": 11,
   "metadata": {},
   "outputs": [],
   "source": [
    "TRAIN_BUF = 60000\n",
    "BATCH_SIZE = 100"
   ]
  },
  {
   "cell_type": "code",
   "execution_count": 12,
   "metadata": {},
   "outputs": [],
   "source": [
    "train_dataset = tf.data.Dataset.from_tensor_slices(imgs_sampled_color).shuffle(TRAIN_BUF).batch(BATCH_SIZE)"
   ]
  },
  {
   "cell_type": "code",
   "execution_count": 13,
   "metadata": {},
   "outputs": [],
   "source": [
    "class VAESprite(tf.keras.Model):\n",
    "    \"\"\"Same Architecture\"\"\"\n",
    "    def __init__(self, latent_dim):\n",
    "        super().__init__()\n",
    "        self.latent_dim = latent_dim\n",
    "        \n",
    "        self.encoder = tf.keras.Sequential([\n",
    "            tf.keras.layers.InputLayer(input_shape=(64, 64, 3)),\n",
    "            tf.keras.layers.Conv2D(filters=32, kernel_size=4, strides=(2, 2), activation=tf.nn.elu),\n",
    "            tf.keras.layers.Conv2D(filters=32, kernel_size=4, strides=(2, 2), activation=tf.nn.elu),\n",
    "            tf.keras.layers.Conv2D(filters=64, kernel_size=4, strides=(2, 2), activation=tf.nn.elu),\n",
    "            tf.keras.layers.Conv2D(filters=64, kernel_size=4, strides=(2, 2), activation=tf.nn.elu),\n",
    "            tf.keras.layers.Flatten(),\n",
    "            tf.keras.layers.Dense(latent_dim + latent_dim),\n",
    "        ])\n",
    "        \n",
    "        self.decoder = tf.keras.Sequential([\n",
    "            tf.keras.layers.InputLayer(input_shape=(latent_dim,)),\n",
    "            tf.keras.layers.Dense(units=2*2*64, activation=tf.nn.relu),\n",
    "            tf.keras.layers.Reshape(target_shape=(2, 2, 64)),\n",
    "            tf.keras.layers.Conv2DTranspose(filters=64, kernel_size=4, strides=(2, 2), padding=\"SAME\", activation=tf.nn.elu),\n",
    "            tf.keras.layers.Conv2DTranspose(filters=64, kernel_size=4, strides=(2, 2), padding=\"SAME\", activation=tf.nn.elu),\n",
    "            tf.keras.layers.Conv2DTranspose(filters=32, kernel_size=4, strides=(4, 4), padding=\"SAME\", activation=tf.nn.elu),\n",
    "            tf.keras.layers.Conv2DTranspose(filters=32, kernel_size=2, strides=(2, 2), padding=\"SAME\", activation=tf.nn.elu),\n",
    "            tf.keras.layers.Conv2DTranspose(filters=3, kernel_size=1, strides=(1, 1), padding=\"SAME\"),\n",
    "        ])\n",
    "        \n",
    "    def sample(self):\n",
    "        latent = tf.random_normal(shape=(1, self.latent_dim))\n",
    "        return latent, tf.nn.sigmoid(self.decoder(latent))\n",
    "    \n",
    "    def call(self, img, is_sigmoid=False):\n",
    "        \"\"\"Reuse the code from the Google Example\"\"\"\n",
    "        mean, log_var = tf.split(self.encoder(img), num_or_size_splits=2, axis=1)\n",
    "        \n",
    "        normal = tf.random_normal(shape=mean.shape)\n",
    "        latent = normal * tf.exp(log_var * .5) + mean\n",
    "        \n",
    "        out = self.decoder(latent)\n",
    "        if is_sigmoid:\n",
    "            out = tf.nn.sigmoid(out)\n",
    "        return latent, out, mean, log_var"
   ]
  },
  {
   "cell_type": "code",
   "execution_count": 14,
   "metadata": {},
   "outputs": [],
   "source": [
    "vae = VAESprite(10)"
   ]
  },
  {
   "cell_type": "code",
   "execution_count": 15,
   "metadata": {},
   "outputs": [
    {
     "name": "stdout",
     "output_type": "stream",
     "text": [
      "At epoch 0\n",
      "tf.Tensor(8517.414, shape=(), dtype=float32)\n",
      "tf.Tensor(5196.537, shape=(), dtype=float32)\n",
      "tf.Tensor(2287.0188, shape=(), dtype=float32)\n",
      "tf.Tensor(1867.7388, shape=(), dtype=float32)\n",
      "tf.Tensor(1563.6825, shape=(), dtype=float32)\n",
      "tf.Tensor(1575.2919, shape=(), dtype=float32)\n",
      "tf.Tensor(1442.1438, shape=(), dtype=float32)\n",
      "tf.Tensor(1202.5958, shape=(), dtype=float32)\n",
      "tf.Tensor(1031.4033, shape=(), dtype=float32)\n",
      "tf.Tensor(853.33026, shape=(), dtype=float32)\n",
      "tf.Tensor(841.6078, shape=(), dtype=float32)\n",
      "tf.Tensor(760.8222, shape=(), dtype=float32)\n",
      "tf.Tensor(690.1741, shape=(), dtype=float32)\n",
      "tf.Tensor(660.9972, shape=(), dtype=float32)\n",
      "tf.Tensor(636.57214, shape=(), dtype=float32)\n",
      "tf.Tensor(616.11597, shape=(), dtype=float32)\n",
      "tf.Tensor(607.46124, shape=(), dtype=float32)\n",
      "tf.Tensor(574.17505, shape=(), dtype=float32)\n",
      "tf.Tensor(529.2573, shape=(), dtype=float32)\n",
      "tf.Tensor(553.6482, shape=(), dtype=float32)\n",
      "tf.Tensor(561.498, shape=(), dtype=float32)\n",
      "tf.Tensor(534.683, shape=(), dtype=float32)\n",
      "tf.Tensor(506.59134, shape=(), dtype=float32)\n",
      "tf.Tensor(524.84924, shape=(), dtype=float32)\n",
      "tf.Tensor(529.11273, shape=(), dtype=float32)\n",
      "tf.Tensor(552.0534, shape=(), dtype=float32)\n",
      "tf.Tensor(535.70306, shape=(), dtype=float32)\n",
      "tf.Tensor(520.1109, shape=(), dtype=float32)\n",
      "tf.Tensor(536.64655, shape=(), dtype=float32)\n",
      "tf.Tensor(529.70844, shape=(), dtype=float32)\n",
      "tf.Tensor(514.66724, shape=(), dtype=float32)\n",
      "tf.Tensor(516.52954, shape=(), dtype=float32)\n",
      "tf.Tensor(510.8217, shape=(), dtype=float32)\n",
      "tf.Tensor(495.99872, shape=(), dtype=float32)\n",
      "tf.Tensor(483.77747, shape=(), dtype=float32)\n",
      "tf.Tensor(483.5891, shape=(), dtype=float32)\n",
      "tf.Tensor(504.26978, shape=(), dtype=float32)\n",
      "tf.Tensor(465.57843, shape=(), dtype=float32)\n",
      "tf.Tensor(482.0608, shape=(), dtype=float32)\n",
      "tf.Tensor(463.8844, shape=(), dtype=float32)\n",
      "tf.Tensor(461.51434, shape=(), dtype=float32)\n",
      "tf.Tensor(465.48782, shape=(), dtype=float32)\n",
      "---------\n",
      "At epoch 1\n",
      "tf.Tensor(482.88013, shape=(), dtype=float32)\n",
      "tf.Tensor(469.13104, shape=(), dtype=float32)\n",
      "tf.Tensor(458.43176, shape=(), dtype=float32)\n",
      "tf.Tensor(435.66687, shape=(), dtype=float32)\n",
      "tf.Tensor(481.9489, shape=(), dtype=float32)\n",
      "tf.Tensor(439.21707, shape=(), dtype=float32)\n",
      "tf.Tensor(456.86853, shape=(), dtype=float32)\n",
      "tf.Tensor(479.30753, shape=(), dtype=float32)\n",
      "tf.Tensor(467.81387, shape=(), dtype=float32)\n",
      "tf.Tensor(450.83258, shape=(), dtype=float32)\n",
      "tf.Tensor(438.99286, shape=(), dtype=float32)\n",
      "tf.Tensor(437.6582, shape=(), dtype=float32)\n",
      "tf.Tensor(479.92383, shape=(), dtype=float32)\n",
      "tf.Tensor(433.28165, shape=(), dtype=float32)\n",
      "tf.Tensor(423.27704, shape=(), dtype=float32)\n",
      "tf.Tensor(467.44528, shape=(), dtype=float32)\n",
      "tf.Tensor(448.72665, shape=(), dtype=float32)\n",
      "tf.Tensor(449.48022, shape=(), dtype=float32)\n",
      "tf.Tensor(405.68637, shape=(), dtype=float32)\n",
      "tf.Tensor(422.20157, shape=(), dtype=float32)\n",
      "tf.Tensor(426.96274, shape=(), dtype=float32)\n",
      "tf.Tensor(445.04718, shape=(), dtype=float32)\n",
      "tf.Tensor(441.32202, shape=(), dtype=float32)\n",
      "tf.Tensor(446.63956, shape=(), dtype=float32)\n",
      "tf.Tensor(405.034, shape=(), dtype=float32)\n",
      "tf.Tensor(404.20618, shape=(), dtype=float32)\n",
      "tf.Tensor(463.44434, shape=(), dtype=float32)\n",
      "tf.Tensor(409.61185, shape=(), dtype=float32)\n",
      "tf.Tensor(421.16013, shape=(), dtype=float32)\n",
      "tf.Tensor(444.60098, shape=(), dtype=float32)\n",
      "tf.Tensor(421.96915, shape=(), dtype=float32)\n",
      "tf.Tensor(431.98615, shape=(), dtype=float32)\n",
      "tf.Tensor(418.08017, shape=(), dtype=float32)\n",
      "tf.Tensor(426.60522, shape=(), dtype=float32)\n",
      "tf.Tensor(408.53967, shape=(), dtype=float32)\n",
      "tf.Tensor(410.53827, shape=(), dtype=float32)\n",
      "tf.Tensor(389.82355, shape=(), dtype=float32)\n",
      "tf.Tensor(403.45465, shape=(), dtype=float32)\n",
      "tf.Tensor(423.38928, shape=(), dtype=float32)\n",
      "tf.Tensor(423.93765, shape=(), dtype=float32)\n",
      "tf.Tensor(432.01645, shape=(), dtype=float32)\n",
      "tf.Tensor(415.45898, shape=(), dtype=float32)\n",
      "---------\n",
      "At epoch 2\n",
      "tf.Tensor(428.9602, shape=(), dtype=float32)\n",
      "tf.Tensor(410.3281, shape=(), dtype=float32)\n",
      "tf.Tensor(417.77454, shape=(), dtype=float32)\n",
      "tf.Tensor(420.21036, shape=(), dtype=float32)\n",
      "tf.Tensor(409.55997, shape=(), dtype=float32)\n",
      "tf.Tensor(382.68286, shape=(), dtype=float32)\n",
      "tf.Tensor(395.82022, shape=(), dtype=float32)\n",
      "tf.Tensor(413.269, shape=(), dtype=float32)\n",
      "tf.Tensor(404.95328, shape=(), dtype=float32)\n",
      "tf.Tensor(392.58875, shape=(), dtype=float32)\n",
      "tf.Tensor(414.166, shape=(), dtype=float32)\n",
      "tf.Tensor(401.85153, shape=(), dtype=float32)\n",
      "tf.Tensor(413.12686, shape=(), dtype=float32)\n",
      "tf.Tensor(412.96378, shape=(), dtype=float32)\n",
      "tf.Tensor(367.7278, shape=(), dtype=float32)\n",
      "tf.Tensor(388.69708, shape=(), dtype=float32)\n",
      "tf.Tensor(390.8108, shape=(), dtype=float32)\n",
      "tf.Tensor(379.35245, shape=(), dtype=float32)\n",
      "tf.Tensor(361.257, shape=(), dtype=float32)\n",
      "tf.Tensor(362.07593, shape=(), dtype=float32)\n",
      "tf.Tensor(375.4335, shape=(), dtype=float32)\n",
      "tf.Tensor(321.65683, shape=(), dtype=float32)\n",
      "tf.Tensor(342.87244, shape=(), dtype=float32)\n",
      "tf.Tensor(327.16086, shape=(), dtype=float32)\n",
      "tf.Tensor(291.03214, shape=(), dtype=float32)\n",
      "tf.Tensor(304.78903, shape=(), dtype=float32)\n",
      "tf.Tensor(304.01407, shape=(), dtype=float32)\n",
      "tf.Tensor(323.87766, shape=(), dtype=float32)\n",
      "tf.Tensor(332.4517, shape=(), dtype=float32)\n",
      "tf.Tensor(306.15817, shape=(), dtype=float32)\n",
      "tf.Tensor(282.16895, shape=(), dtype=float32)\n",
      "tf.Tensor(283.39236, shape=(), dtype=float32)\n",
      "tf.Tensor(279.78375, shape=(), dtype=float32)\n",
      "tf.Tensor(318.56097, shape=(), dtype=float32)\n",
      "tf.Tensor(286.69357, shape=(), dtype=float32)\n",
      "tf.Tensor(279.6025, shape=(), dtype=float32)\n",
      "tf.Tensor(268.5377, shape=(), dtype=float32)\n",
      "tf.Tensor(263.28336, shape=(), dtype=float32)\n",
      "tf.Tensor(273.29395, shape=(), dtype=float32)\n",
      "tf.Tensor(260.49835, shape=(), dtype=float32)\n",
      "tf.Tensor(255.70099, shape=(), dtype=float32)\n",
      "tf.Tensor(278.7688, shape=(), dtype=float32)\n",
      "---------\n",
      "At epoch 3\n",
      "tf.Tensor(275.99625, shape=(), dtype=float32)\n",
      "tf.Tensor(243.65833, shape=(), dtype=float32)\n",
      "tf.Tensor(262.49045, shape=(), dtype=float32)\n",
      "tf.Tensor(274.9953, shape=(), dtype=float32)\n",
      "tf.Tensor(260.4427, shape=(), dtype=float32)\n",
      "tf.Tensor(277.2102, shape=(), dtype=float32)\n",
      "tf.Tensor(248.91597, shape=(), dtype=float32)\n",
      "tf.Tensor(230.95642, shape=(), dtype=float32)\n",
      "tf.Tensor(241.86989, shape=(), dtype=float32)\n",
      "tf.Tensor(222.40369, shape=(), dtype=float32)\n",
      "tf.Tensor(213.46875, shape=(), dtype=float32)\n",
      "tf.Tensor(220.47647, shape=(), dtype=float32)\n",
      "tf.Tensor(211.99817, shape=(), dtype=float32)\n",
      "tf.Tensor(220.76207, shape=(), dtype=float32)\n",
      "tf.Tensor(224.36563, shape=(), dtype=float32)\n",
      "tf.Tensor(215.21085, shape=(), dtype=float32)\n",
      "tf.Tensor(187.86327, shape=(), dtype=float32)\n",
      "tf.Tensor(218.43973, shape=(), dtype=float32)\n",
      "tf.Tensor(216.54018, shape=(), dtype=float32)\n",
      "tf.Tensor(213.76424, shape=(), dtype=float32)\n",
      "tf.Tensor(226.06088, shape=(), dtype=float32)\n",
      "tf.Tensor(225.4417, shape=(), dtype=float32)\n",
      "tf.Tensor(230.29669, shape=(), dtype=float32)\n",
      "tf.Tensor(213.0125, shape=(), dtype=float32)\n",
      "tf.Tensor(195.07895, shape=(), dtype=float32)\n",
      "tf.Tensor(186.09688, shape=(), dtype=float32)\n",
      "tf.Tensor(219.06024, shape=(), dtype=float32)\n",
      "tf.Tensor(216.41185, shape=(), dtype=float32)\n",
      "tf.Tensor(210.93166, shape=(), dtype=float32)\n",
      "tf.Tensor(228.20361, shape=(), dtype=float32)\n",
      "tf.Tensor(213.04785, shape=(), dtype=float32)\n",
      "tf.Tensor(213.4419, shape=(), dtype=float32)\n",
      "tf.Tensor(217.90616, shape=(), dtype=float32)\n",
      "tf.Tensor(208.34995, shape=(), dtype=float32)\n",
      "tf.Tensor(208.77373, shape=(), dtype=float32)\n",
      "tf.Tensor(200.79816, shape=(), dtype=float32)\n",
      "tf.Tensor(199.35617, shape=(), dtype=float32)\n",
      "tf.Tensor(200.12283, shape=(), dtype=float32)\n",
      "tf.Tensor(217.76512, shape=(), dtype=float32)\n",
      "tf.Tensor(201.77673, shape=(), dtype=float32)\n",
      "tf.Tensor(199.19682, shape=(), dtype=float32)\n",
      "tf.Tensor(194.87526, shape=(), dtype=float32)\n",
      "---------\n",
      "At epoch 4\n",
      "tf.Tensor(195.40155, shape=(), dtype=float32)\n",
      "tf.Tensor(171.8815, shape=(), dtype=float32)\n",
      "tf.Tensor(194.4758, shape=(), dtype=float32)\n",
      "tf.Tensor(173.00308, shape=(), dtype=float32)\n",
      "tf.Tensor(187.26176, shape=(), dtype=float32)\n",
      "tf.Tensor(193.31512, shape=(), dtype=float32)\n",
      "tf.Tensor(199.32898, shape=(), dtype=float32)\n",
      "tf.Tensor(191.70963, shape=(), dtype=float32)\n",
      "tf.Tensor(175.74553, shape=(), dtype=float32)\n",
      "tf.Tensor(177.15707, shape=(), dtype=float32)\n"
     ]
    },
    {
     "name": "stdout",
     "output_type": "stream",
     "text": [
      "tf.Tensor(176.76675, shape=(), dtype=float32)\n",
      "tf.Tensor(171.2144, shape=(), dtype=float32)\n",
      "tf.Tensor(155.35019, shape=(), dtype=float32)\n",
      "tf.Tensor(157.58345, shape=(), dtype=float32)\n",
      "tf.Tensor(152.39252, shape=(), dtype=float32)\n",
      "tf.Tensor(147.40456, shape=(), dtype=float32)\n",
      "tf.Tensor(147.3188, shape=(), dtype=float32)\n",
      "tf.Tensor(142.01367, shape=(), dtype=float32)\n",
      "tf.Tensor(136.86984, shape=(), dtype=float32)\n",
      "tf.Tensor(133.00983, shape=(), dtype=float32)\n",
      "tf.Tensor(126.90627, shape=(), dtype=float32)\n",
      "tf.Tensor(131.36964, shape=(), dtype=float32)\n",
      "tf.Tensor(131.23312, shape=(), dtype=float32)\n",
      "tf.Tensor(134.75983, shape=(), dtype=float32)\n",
      "tf.Tensor(120.87576, shape=(), dtype=float32)\n",
      "tf.Tensor(130.9976, shape=(), dtype=float32)\n",
      "tf.Tensor(122.54425, shape=(), dtype=float32)\n",
      "tf.Tensor(120.20372, shape=(), dtype=float32)\n",
      "tf.Tensor(119.43106, shape=(), dtype=float32)\n",
      "tf.Tensor(114.13122, shape=(), dtype=float32)\n",
      "tf.Tensor(113.09897, shape=(), dtype=float32)\n",
      "tf.Tensor(112.57261, shape=(), dtype=float32)\n",
      "tf.Tensor(117.079414, shape=(), dtype=float32)\n",
      "tf.Tensor(105.93189, shape=(), dtype=float32)\n",
      "tf.Tensor(111.41486, shape=(), dtype=float32)\n",
      "tf.Tensor(104.83722, shape=(), dtype=float32)\n",
      "tf.Tensor(108.91763, shape=(), dtype=float32)\n",
      "tf.Tensor(106.94544, shape=(), dtype=float32)\n",
      "tf.Tensor(110.205666, shape=(), dtype=float32)\n",
      "tf.Tensor(108.340706, shape=(), dtype=float32)\n",
      "tf.Tensor(107.721725, shape=(), dtype=float32)\n",
      "tf.Tensor(108.93322, shape=(), dtype=float32)\n",
      "---------\n"
     ]
    }
   ],
   "source": [
    "optimizer = tf.train.AdamOptimizer(5e-5)\n",
    "\n",
    "for e in range(5):\n",
    "    print(f\"At epoch {e}\")\n",
    "    for i, img in enumerate(train_dataset):\n",
    "        img = tf.cast(img, tf.float32)\n",
    "        with tf.GradientTape() as tape:\n",
    "            tape.watch(vae.variables)\n",
    "\n",
    "            latent, out, mean, log_var = vae(img)\n",
    "            \n",
    "            # Reconstruction loss ? \n",
    "            cross_ent = tf.nn.sigmoid_cross_entropy_with_logits(logits=out, labels=img)\n",
    "            logpx_z = -tf.reduce_sum(cross_ent, axis=[1, 2, 3])\n",
    "            \n",
    "            # KL Loss -- From https://wiseodd.github.io/techblog/2017/01/24/vae-pytorch/\n",
    "            kl_loss = 0.5 * tf.reduce_sum(tf.exp(log_var) + mean**2 - 1. - log_var, axis=[1])\n",
    "            \n",
    "            loss = -tf.reduce_mean(logpx_z - kl_loss)\n",
    "            if i % 100 == 0:\n",
    "                print(loss)\n",
    "\n",
    "        grad = tape.gradient(loss, vae.variables)\n",
    "        optimizer.apply_gradients(zip(grad, vae.variables))\n",
    "    print(\"---------\")   "
   ]
  },
  {
   "cell_type": "code",
   "execution_count": 16,
   "metadata": {},
   "outputs": [
    {
     "data": {
      "text/plain": [
       "<matplotlib.image.AxesImage at 0x18e14e76d8>"
      ]
     },
     "execution_count": 16,
     "metadata": {},
     "output_type": "execute_result"
    },
    {
     "data": {
      "image/png": "[encoded data removed]",
      "text/plain": [
       "<matplotlib.figure.Figure at 0x18e14d3940>"
      ]
     },
     "metadata": {
      "needs_background": "light"
     },
     "output_type": "display_data"
    }
   ],
   "source": [
    "plt.imshow(tf.nn.sigmoid(out[4]).numpy())"
   ]
  },
  {
   "cell_type": "code",
   "execution_count": 17,
   "metadata": {},
   "outputs": [
    {
     "data": {
      "text/plain": [
       "<matplotlib.image.AxesImage at 0x18e14be5f8>"
      ]
     },
     "execution_count": 17,
     "metadata": {},
     "output_type": "execute_result"
    },
    {
     "data": {
      "image/png": "[encoded data removed]",
      "text/plain": [
       "<matplotlib.figure.Figure at 0x18dcd397f0>"
      ]
     },
     "metadata": {
      "needs_background": "light"
     },
     "output_type": "display_data"
    }
   ],
   "source": [
    "sampled_latent, img = vae.sample()\n",
    "img = tf.squeeze(img)\n",
    "\n",
    "plt.imshow(img.numpy())"
   ]
  },
  {
   "cell_type": "code",
   "execution_count": 18,
   "metadata": {},
   "outputs": [
    {
     "data": {
      "text/plain": [
       "<matplotlib.image.AxesImage at 0x18f2f5c2e8>"
      ]
     },
     "execution_count": 18,
     "metadata": {},
     "output_type": "execute_result"
    },
    {
     "data": {
      "image/png": "[encoded data removed]",
      "text/plain": [
       "<matplotlib.figure.Figure at 0x18f37a8748>"
      ]
     },
     "metadata": {
      "needs_background": "light"
     },
     "output_type": "display_data"
    }
   ],
   "source": [
    "latents_sampled = sample_latent(size=1)\n",
    "\n",
    "latents_sampled[:, 1] = 0\n",
    "indices_sampled = latent_to_index(latents_sampled)\n",
    "imgs_sampled = imgs[indices_sampled]\n",
    "\n",
    "test_img = imgs_sampled[0]\n",
    "test_color_img = create_color(test_img)\n",
    "plt.imshow(test_color_img[3]*255)"
   ]
  },
  {
   "cell_type": "code",
   "execution_count": 19,
   "metadata": {},
   "outputs": [
    {
     "data": {
      "text/plain": [
       "<matplotlib.image.AxesImage at 0x18f2f4fda0>"
      ]
     },
     "execution_count": 19,
     "metadata": {},
     "output_type": "execute_result"
    },
    {
     "data": {
      "image/png": "[encoded data removed]",
      "text/plain": [
       "<matplotlib.figure.Figure at 0x18e1514ac8>"
      ]
     },
     "metadata": {
      "needs_background": "light"
     },
     "output_type": "display_data"
    }
   ],
   "source": [
    "test_color_img_single = tf.expand_dims(tf.convert_to_tensor(test_color_img[3]), axis=0)\n",
    "latent, out, _, _ = vae(tf.cast(test_color_img_single, tf.float32))\n",
    "\n",
    "out = tf.squeeze(tf.nn.sigmoid(out))\n",
    "plt.imshow(out.numpy())"
   ]
  },
  {
   "cell_type": "code",
   "execution_count": 20,
   "metadata": {},
   "outputs": [
    {
     "data": {
      "text/plain": [
       "<tf.Tensor: id=9031325, shape=(1, 10), dtype=float32, numpy=\n",
       "array([[ 0.07234307, -0.17965749,  0.2055933 ,  0.11410501,  0.02619842,\n",
       "        -0.00808794, -0.03219842, -0.1338965 , -0.17152627,  0.1010346 ]],\n",
       "      dtype=float32)>"
      ]
     },
     "execution_count": 20,
     "metadata": {},
     "output_type": "execute_result"
    }
   ],
   "source": [
    "diff = latent - sampled_latent\n",
    "number_steps = 10\n",
    "diff = diff/number_steps \n",
    "diff"
   ]
  },
  {
   "cell_type": "code",
   "execution_count": 21,
   "metadata": {},
   "outputs": [
    {
     "data": {
      "text/plain": [
       "(10, 64, 64, 3)"
      ]
     },
     "execution_count": 21,
     "metadata": {},
     "output_type": "execute_result"
    }
   ],
   "source": [
    "middle = sampled_latent\n",
    "frames = []\n",
    "for i in range(number_steps):\n",
    "    out = tf.nn.sigmoid(vae.decoder(middle))\n",
    "    out = tf.squeeze(out)\n",
    "    frames.append(out.numpy())\n",
    "    middle += diff\n",
    "\n",
    "frames = np.stack(frames)\n",
    "frames.shape"
   ]
  },
  {
   "cell_type": "code",
   "execution_count": 22,
   "metadata": {},
   "outputs": [
    {
     "data": {
      "image/png": "[encoded data removed]",
      "text/plain": [
       "<matplotlib.figure.Figure at 0x10806eeb8>"
      ]
     },
     "metadata": {
      "needs_background": "light"
     },
     "output_type": "display_data"
    }
   ],
   "source": [
    "show_images_grid(frames, num_images=10)"
   ]
  },
  {
   "cell_type": "code",
   "execution_count": 23,
   "metadata": {},
   "outputs": [],
   "source": [
    "def traverse_latent(latent, axis, traverse_length=9, total_step=9):\n",
    "    step_size = traverse_length * 2 / total_step\n",
    "    item = latent[:, axis]\n",
    "    \n",
    "    item_evolution = []\n",
    "    item = item - traverse_length\n",
    "    import copy\n",
    "    for i in range(total_step):\n",
    "        new_latent = copy.deepcopy(latent)\n",
    "        new_latent[:, axis] = item\n",
    "        item_evolution.append(new_latent)\n",
    "        item += step_size\n",
    "        \n",
    "    traversed_latent = np.squeeze(np.stack(item_evolution))\n",
    "    return traversed_latent"
   ]
  },
  {
   "cell_type": "code",
   "execution_count": 28,
   "metadata": {},
   "outputs": [
    {
     "data": {
      "image/png": "[encoded data removed]",
      "text/plain": [
       "<matplotlib.figure.Figure at 0x18f3c677f0>"
      ]
     },
     "metadata": {
      "needs_background": "light"
     },
     "output_type": "display_data"
    }
   ],
   "source": [
    "all_latent = traverse_latent(latent.numpy(), 0, total_step=10)\n",
    "out = vae.decoder(tf.convert_to_tensor(all_latent))\n",
    "out = tf.squeeze(tf.nn.sigmoid(out))\n",
    "\n",
    "show_images_grid(out.numpy(), 10)"
   ]
  },
  {
   "cell_type": "code",
   "execution_count": null,
   "metadata": {},
   "outputs": [],
   "source": []
  }
 ],
 "metadata": {
  "kernelspec": {
   "display_name": "Python 3",
   "language": "python",
   "name": "python3"
  },
  "language_info": {
   "codemirror_mode": {
    "name": "ipython",
    "version": 3
   },
   "file_extension": ".py",
   "mimetype": "text/x-python",
   "name": "python",
   "nbconvert_exporter": "python",
   "pygments_lexer": "ipython3",
   "version": "3.6.6"
  }
 },
 "nbformat": 4,
 "nbformat_minor": 2
}
