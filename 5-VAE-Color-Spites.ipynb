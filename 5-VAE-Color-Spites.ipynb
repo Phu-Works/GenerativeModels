{
 "cells": [
  {
   "cell_type": "code",
   "execution_count": 1,
   "metadata": {},
   "outputs": [],
   "source": [
    "# !git clone https://github.com/deepmind/dsprites-dataset.git"
   ]
  },
  {
   "cell_type": "code",
   "execution_count": 2,
   "metadata": {},
   "outputs": [],
   "source": [
    "import tensorflow as tf \n",
    "tf.enable_eager_execution()"
   ]
  },
  {
   "cell_type": "code",
   "execution_count": 3,
   "metadata": {},
   "outputs": [],
   "source": [
    "import numpy as np\n",
    "import matplotlib.pyplot as plt\n",
    "import cv2\n",
    "import itertools"
   ]
  },
  {
   "cell_type": "code",
   "execution_count": 4,
   "metadata": {},
   "outputs": [
    {
     "name": "stdout",
     "output_type": "stream",
     "text": [
      "Metadata: \n",
      " {b'date': b'April 2017', b'description': b'Disentanglement test Sprites dataset.Procedurally generated 2D shapes, from 6 disentangled latent factors.This dataset uses 6 latents, controlling the color, shape, scale, rotation and position of a sprite. All possible variations of the latents are present. Ordering along dimension 1 is fixed and can be mapped back to the exact latent values that generated that image.We made sure that the pixel outputs are different. No noise added.', b'version': 1, b'latents_names': (b'color', b'shape', b'scale', b'orientation', b'posX', b'posY'), b'latents_possible_values': {b'orientation': array([0.        , 0.16110732, 0.32221463, 0.48332195, 0.64442926,\n",
      "       0.80553658, 0.96664389, 1.12775121, 1.28885852, 1.44996584,\n",
      "       1.61107316, 1.77218047, 1.93328779, 2.0943951 , 2.25550242,\n",
      "       2.41660973, 2.57771705, 2.73882436, 2.89993168, 3.061039  ,\n",
      "       3.22214631, 3.38325363, 3.54436094, 3.70546826, 3.86657557,\n",
      "       4.02768289, 4.1887902 , 4.34989752, 4.51100484, 4.67211215,\n",
      "       4.83321947, 4.99432678, 5.1554341 , 5.31654141, 5.47764873,\n",
      "       5.63875604, 5.79986336, 5.96097068, 6.12207799, 6.28318531]), b'posX': array([0.        , 0.03225806, 0.06451613, 0.09677419, 0.12903226,\n",
      "       0.16129032, 0.19354839, 0.22580645, 0.25806452, 0.29032258,\n",
      "       0.32258065, 0.35483871, 0.38709677, 0.41935484, 0.4516129 ,\n",
      "       0.48387097, 0.51612903, 0.5483871 , 0.58064516, 0.61290323,\n",
      "       0.64516129, 0.67741935, 0.70967742, 0.74193548, 0.77419355,\n",
      "       0.80645161, 0.83870968, 0.87096774, 0.90322581, 0.93548387,\n",
      "       0.96774194, 1.        ]), b'posY': array([0.        , 0.03225806, 0.06451613, 0.09677419, 0.12903226,\n",
      "       0.16129032, 0.19354839, 0.22580645, 0.25806452, 0.29032258,\n",
      "       0.32258065, 0.35483871, 0.38709677, 0.41935484, 0.4516129 ,\n",
      "       0.48387097, 0.51612903, 0.5483871 , 0.58064516, 0.61290323,\n",
      "       0.64516129, 0.67741935, 0.70967742, 0.74193548, 0.77419355,\n",
      "       0.80645161, 0.83870968, 0.87096774, 0.90322581, 0.93548387,\n",
      "       0.96774194, 1.        ]), b'scale': array([0.5, 0.6, 0.7, 0.8, 0.9, 1. ]), b'shape': array([1., 2., 3.]), b'color': array([1.])}, b'latents_sizes': array([ 1,  3,  6, 40, 32, 32]), b'author': b'lmatthey@google.com', b'title': b'dSprites dataset'}\n"
     ]
    }
   ],
   "source": [
    "## Code from Deepmind's Github\n",
    "load_data = np.load(\"dsprites-dataset/dsprites_ndarray_co1sh3sc6or40x32y32_64x64.npz\", encoding='bytes')\n",
    "imgs = load_data['imgs']\n",
    "latents_values = load_data['latents_values']\n",
    "latents_classes = load_data['latents_classes']\n",
    "metadata = load_data['metadata'][()]\n",
    "\n",
    "print('Metadata: \\n', metadata)"
   ]
  },
  {
   "cell_type": "code",
   "execution_count": 5,
   "metadata": {},
   "outputs": [],
   "source": [
    "latents_sizes = metadata[b'latents_sizes']\n",
    "latents_bases = np.concatenate((latents_sizes[::-1].cumprod()[::-1][1:],\n",
    "                                np.array([1,])))\n",
    "\n",
    "def latent_to_index(latents):\n",
    "    return np.dot(latents, latents_bases).astype(int)\n",
    "\n",
    "def sample_latent(size=1):\n",
    "    samples = np.zeros((size, latents_sizes.size))\n",
    "    for lat_i, lat_size in enumerate(latents_sizes):\n",
    "        samples[:, lat_i] = np.random.randint(lat_size, size=size)\n",
    "\n",
    "    return samples\n",
    "\n",
    "def show_images_grid(imgs_, num_images=25, cmap='Greys_r'):\n",
    "    ncols = int(np.ceil(num_images**0.5))\n",
    "    nrows = int(np.ceil(num_images / ncols))\n",
    "    _, axes = plt.subplots(ncols, nrows, figsize=(nrows * 3, ncols * 3))\n",
    "    axes = axes.flatten()\n",
    "\n",
    "    for ax_i, ax in enumerate(axes):\n",
    "        if ax_i < num_images:\n",
    "            if not cmap is None:\n",
    "                ax.imshow(imgs_[ax_i], cmap=cmap,  interpolation='nearest')\n",
    "            else:\n",
    "                ax.imshow(imgs_[ax_i]*255, interpolation='nearest')\n",
    "            ax.set_xticks([])\n",
    "            ax.set_yticks([])\n",
    "        else:\n",
    "            ax.axis('off')"
   ]
  },
  {
   "cell_type": "code",
   "execution_count": 6,
   "metadata": {},
   "outputs": [
    {
     "data": {
      "image/png": "[encoded data removed]",
      "text/plain": [
       "<matplotlib.figure.Figure at 0x18286cccc0>"
      ]
     },
     "metadata": {},
     "output_type": "display_data"
    }
   ],
   "source": [
    "latents_sampled = sample_latent(size=60000)\n",
    "latents_sampled[:, 1] = 1\n",
    "indices_sampled = latent_to_index(latents_sampled)\n",
    "imgs_sampled = imgs[indices_sampled]\n",
    "\n",
    "show_images_grid(imgs_sampled, 9, cmap='gray')"
   ]
  },
  {
   "cell_type": "code",
   "execution_count": 7,
   "metadata": {},
   "outputs": [
    {
     "data": {
      "text/plain": [
       "array([[0, 0, 0, ..., 0, 0, 0],\n",
       "       [0, 0, 0, ..., 0, 0, 0],\n",
       "       [0, 0, 0, ..., 0, 0, 0],\n",
       "       ...,\n",
       "       [0, 0, 0, ..., 0, 0, 0],\n",
       "       [0, 0, 0, ..., 0, 0, 0],\n",
       "       [0, 0, 0, ..., 0, 0, 0]], dtype=uint8)"
      ]
     },
     "execution_count": 7,
     "metadata": {},
     "output_type": "execute_result"
    }
   ],
   "source": [
    "imgs_sampled[0]"
   ]
  },
  {
   "cell_type": "code",
   "execution_count": 8,
   "metadata": {},
   "outputs": [],
   "source": [
    "def create_color(base_image):\n",
    "    all_color = itertools.product([0, 1], repeat=3)\n",
    "    all_images = []\n",
    "    for r, g, b in all_color:\n",
    "        if (r, g, b) == (0, 0, 0):\n",
    "            continue\n",
    "        new_color = np.stack([\n",
    "            base_image*r,\n",
    "            base_image*g,\n",
    "            base_image*b\n",
    "        ], axis=-1)\n",
    "\n",
    "        all_images.append(new_color)\n",
    "    return all_images"
   ]
  },
  {
   "cell_type": "code",
   "execution_count": 9,
   "metadata": {},
   "outputs": [
    {
     "name": "stdout",
     "output_type": "stream",
     "text": [
      "Now at 0/60000\n",
      "Now at 10000/60000\n",
      "Now at 20000/60000\n",
      "Now at 30000/60000\n",
      "Now at 40000/60000\n",
      "Now at 50000/60000\n"
     ]
    },
    {
     "data": {
      "text/plain": [
       "(420000, 64, 64, 3)"
      ]
     },
     "execution_count": 9,
     "metadata": {},
     "output_type": "execute_result"
    }
   ],
   "source": [
    "all_images_color = []\n",
    "\n",
    "for i, img in enumerate(imgs_sampled):\n",
    "    if i%10000 == 0:\n",
    "        print(f\"Now at {i}/{imgs_sampled.shape[0]}\")\n",
    "    all_images_color += create_color(img)\n",
    "    \n",
    "imgs_sampled_color = np.stack(all_images_color)\n",
    "imgs_sampled_color.shape"
   ]
  },
  {
   "cell_type": "code",
   "execution_count": 10,
   "metadata": {},
   "outputs": [
    {
     "data": {
      "image/png": "[encoded data removed]",
      "text/plain": [
       "<matplotlib.figure.Figure at 0x18e0f5a278>"
      ]
     },
     "metadata": {},
     "output_type": "display_data"
    }
   ],
   "source": [
    "show_images_grid(imgs_sampled_color, 9, cmap=None)"
   ]
  },
  {
   "cell_type": "code",
   "execution_count": 11,
   "metadata": {},
   "outputs": [],
   "source": [
    "TRAIN_BUF = 60000\n",
    "BATCH_SIZE = 100"
   ]
  },
  {
   "cell_type": "code",
   "execution_count": 12,
   "metadata": {},
   "outputs": [],
   "source": [
    "train_dataset = tf.data.Dataset.from_tensor_slices(imgs_sampled_color).shuffle(TRAIN_BUF).batch(BATCH_SIZE)"
   ]
  },
  {
   "cell_type": "code",
   "execution_count": 13,
   "metadata": {},
   "outputs": [],
   "source": [
    "class VAESprite(tf.keras.Model):\n",
    "    \"\"\"Same Architecture\"\"\"\n",
    "    def __init__(self, latent_dim):\n",
    "        super().__init__()\n",
    "        self.latent_dim = latent_dim\n",
    "        \n",
    "        self.encoder = tf.keras.Sequential([\n",
    "            tf.keras.layers.InputLayer(input_shape=(64, 64, 3)),\n",
    "            tf.keras.layers.Conv2D(filters=32, kernel_size=4, strides=(2, 2), activation=tf.nn.elu),\n",
    "            tf.keras.layers.Conv2D(filters=32, kernel_size=4, strides=(2, 2), activation=tf.nn.elu),\n",
    "            tf.keras.layers.Conv2D(filters=64, kernel_size=4, strides=(2, 2), activation=tf.nn.elu),\n",
    "            tf.keras.layers.Conv2D(filters=64, kernel_size=4, strides=(2, 2), activation=tf.nn.elu),\n",
    "            tf.keras.layers.Flatten(),\n",
    "            tf.keras.layers.Dense(latent_dim + latent_dim),\n",
    "        ])\n",
    "        \n",
    "        self.decoder = tf.keras.Sequential([\n",
    "            tf.keras.layers.InputLayer(input_shape=(latent_dim,)),\n",
    "            tf.keras.layers.Dense(units=2*2*64, activation=tf.nn.relu),\n",
    "            tf.keras.layers.Reshape(target_shape=(2, 2, 64)),\n",
    "            tf.keras.layers.Conv2DTranspose(filters=64, kernel_size=4, strides=(2, 2), padding=\"SAME\", activation=tf.nn.elu),\n",
    "            tf.keras.layers.Conv2DTranspose(filters=64, kernel_size=4, strides=(2, 2), padding=\"SAME\", activation=tf.nn.elu),\n",
    "            tf.keras.layers.Conv2DTranspose(filters=32, kernel_size=4, strides=(4, 4), padding=\"SAME\", activation=tf.nn.elu),\n",
    "            tf.keras.layers.Conv2DTranspose(filters=32, kernel_size=2, strides=(2, 2), padding=\"SAME\", activation=tf.nn.elu),\n",
    "            tf.keras.layers.Conv2DTranspose(filters=3, kernel_size=1, strides=(1, 1), padding=\"SAME\"),\n",
    "        ])\n",
    "        \n",
    "    def sample(self):\n",
    "        latent = tf.random_normal(shape=(1, self.latent_dim))\n",
    "        return latent, tf.nn.sigmoid(self.decoder(latent))\n",
    "    \n",
    "    def call(self, img, is_sigmoid=False):\n",
    "        \"\"\"Reuse the code from the Google Example\"\"\"\n",
    "        mean, log_var = tf.split(self.encoder(img), num_or_size_splits=2, axis=1)\n",
    "        \n",
    "        normal = tf.random_normal(shape=mean.shape)\n",
    "        latent = normal * tf.exp(log_var * .5) + mean\n",
    "        \n",
    "        out = self.decoder(latent)\n",
    "        if is_sigmoid:\n",
    "            out = tf.nn.sigmoid(out)\n",
    "        return latent, out, mean, log_var"
   ]
  },
  {
   "cell_type": "code",
   "execution_count": 14,
   "metadata": {},
   "outputs": [],
   "source": [
    "vae = VAESprite(50)"
   ]
  },
  {
   "cell_type": "code",
   "execution_count": 15,
   "metadata": {},
   "outputs": [
    {
     "name": "stdout",
     "output_type": "stream",
     "text": [
      "At epoch 0\n",
      "tf.Tensor(8518.392, shape=(), dtype=float32)\n",
      "tf.Tensor(4816.765, shape=(), dtype=float32)\n",
      "tf.Tensor(2134.1238, shape=(), dtype=float32)\n",
      "tf.Tensor(1780.9725, shape=(), dtype=float32)\n",
      "tf.Tensor(1539.005, shape=(), dtype=float32)\n",
      "tf.Tensor(1332.809, shape=(), dtype=float32)\n",
      "tf.Tensor(1321.4458, shape=(), dtype=float32)\n",
      "tf.Tensor(1021.2581, shape=(), dtype=float32)\n",
      "tf.Tensor(900.6104, shape=(), dtype=float32)\n",
      "tf.Tensor(795.3197, shape=(), dtype=float32)\n",
      "tf.Tensor(727.04376, shape=(), dtype=float32)\n",
      "tf.Tensor(680.33795, shape=(), dtype=float32)\n",
      "tf.Tensor(720.0295, shape=(), dtype=float32)\n",
      "tf.Tensor(670.6184, shape=(), dtype=float32)\n",
      "tf.Tensor(622.6385, shape=(), dtype=float32)\n",
      "tf.Tensor(658.9433, shape=(), dtype=float32)\n",
      "tf.Tensor(632.9953, shape=(), dtype=float32)\n",
      "tf.Tensor(581.5334, shape=(), dtype=float32)\n",
      "tf.Tensor(615.2634, shape=(), dtype=float32)\n",
      "tf.Tensor(594.8929, shape=(), dtype=float32)\n",
      "tf.Tensor(599.0107, shape=(), dtype=float32)\n",
      "tf.Tensor(559.9597, shape=(), dtype=float32)\n",
      "tf.Tensor(578.2508, shape=(), dtype=float32)\n",
      "tf.Tensor(558.7785, shape=(), dtype=float32)\n",
      "tf.Tensor(544.53784, shape=(), dtype=float32)\n",
      "tf.Tensor(561.4696, shape=(), dtype=float32)\n",
      "tf.Tensor(547.09534, shape=(), dtype=float32)\n",
      "tf.Tensor(569.3208, shape=(), dtype=float32)\n",
      "tf.Tensor(575.45703, shape=(), dtype=float32)\n",
      "tf.Tensor(522.3419, shape=(), dtype=float32)\n",
      "tf.Tensor(540.78296, shape=(), dtype=float32)\n",
      "tf.Tensor(494.4604, shape=(), dtype=float32)\n",
      "tf.Tensor(536.16327, shape=(), dtype=float32)\n",
      "tf.Tensor(536.0525, shape=(), dtype=float32)\n",
      "tf.Tensor(522.1482, shape=(), dtype=float32)\n",
      "tf.Tensor(502.75067, shape=(), dtype=float32)\n",
      "tf.Tensor(513.9771, shape=(), dtype=float32)\n",
      "tf.Tensor(499.66794, shape=(), dtype=float32)\n",
      "tf.Tensor(511.84763, shape=(), dtype=float32)\n",
      "tf.Tensor(509.13928, shape=(), dtype=float32)\n",
      "tf.Tensor(502.72168, shape=(), dtype=float32)\n",
      "tf.Tensor(545.3068, shape=(), dtype=float32)\n",
      "---------\n",
      "At epoch 1\n",
      "tf.Tensor(498.33878, shape=(), dtype=float32)\n",
      "tf.Tensor(503.58896, shape=(), dtype=float32)\n",
      "tf.Tensor(515.41376, shape=(), dtype=float32)\n",
      "tf.Tensor(547.8833, shape=(), dtype=float32)\n",
      "tf.Tensor(482.72632, shape=(), dtype=float32)\n",
      "tf.Tensor(480.9281, shape=(), dtype=float32)\n",
      "tf.Tensor(487.6934, shape=(), dtype=float32)\n",
      "tf.Tensor(516.9561, shape=(), dtype=float32)\n",
      "tf.Tensor(478.9145, shape=(), dtype=float32)\n",
      "tf.Tensor(477.25293, shape=(), dtype=float32)\n",
      "tf.Tensor(496.9596, shape=(), dtype=float32)\n",
      "tf.Tensor(493.83682, shape=(), dtype=float32)\n",
      "tf.Tensor(458.8027, shape=(), dtype=float32)\n",
      "tf.Tensor(511.20886, shape=(), dtype=float32)\n",
      "tf.Tensor(444.91827, shape=(), dtype=float32)\n",
      "tf.Tensor(437.04837, shape=(), dtype=float32)\n",
      "tf.Tensor(459.58878, shape=(), dtype=float32)\n",
      "tf.Tensor(462.07605, shape=(), dtype=float32)\n",
      "tf.Tensor(486.94052, shape=(), dtype=float32)\n",
      "tf.Tensor(495.4992, shape=(), dtype=float32)\n",
      "tf.Tensor(468.23773, shape=(), dtype=float32)\n",
      "tf.Tensor(462.0678, shape=(), dtype=float32)\n",
      "tf.Tensor(460.49344, shape=(), dtype=float32)\n",
      "tf.Tensor(431.9716, shape=(), dtype=float32)\n",
      "tf.Tensor(444.36533, shape=(), dtype=float32)\n",
      "tf.Tensor(438.05716, shape=(), dtype=float32)\n",
      "tf.Tensor(456.68298, shape=(), dtype=float32)\n",
      "tf.Tensor(443.6127, shape=(), dtype=float32)\n",
      "tf.Tensor(461.84952, shape=(), dtype=float32)\n",
      "tf.Tensor(468.74652, shape=(), dtype=float32)\n",
      "tf.Tensor(459.49182, shape=(), dtype=float32)\n",
      "tf.Tensor(433.31918, shape=(), dtype=float32)\n",
      "tf.Tensor(441.67337, shape=(), dtype=float32)\n",
      "tf.Tensor(448.0798, shape=(), dtype=float32)\n",
      "tf.Tensor(414.4491, shape=(), dtype=float32)\n",
      "tf.Tensor(417.2275, shape=(), dtype=float32)\n",
      "tf.Tensor(420.18372, shape=(), dtype=float32)\n",
      "tf.Tensor(433.92392, shape=(), dtype=float32)\n",
      "tf.Tensor(371.2001, shape=(), dtype=float32)\n",
      "tf.Tensor(371.52664, shape=(), dtype=float32)\n",
      "tf.Tensor(375.93622, shape=(), dtype=float32)\n",
      "tf.Tensor(384.25708, shape=(), dtype=float32)\n",
      "---------\n",
      "At epoch 2\n",
      "tf.Tensor(360.28656, shape=(), dtype=float32)\n",
      "tf.Tensor(362.44125, shape=(), dtype=float32)\n",
      "tf.Tensor(316.12247, shape=(), dtype=float32)\n",
      "tf.Tensor(336.0015, shape=(), dtype=float32)\n",
      "tf.Tensor(347.0631, shape=(), dtype=float32)\n",
      "tf.Tensor(334.92792, shape=(), dtype=float32)\n",
      "tf.Tensor(326.54324, shape=(), dtype=float32)\n",
      "tf.Tensor(322.62256, shape=(), dtype=float32)\n",
      "tf.Tensor(338.85855, shape=(), dtype=float32)\n",
      "tf.Tensor(347.8369, shape=(), dtype=float32)\n",
      "tf.Tensor(329.70743, shape=(), dtype=float32)\n",
      "tf.Tensor(326.77753, shape=(), dtype=float32)\n",
      "tf.Tensor(329.65, shape=(), dtype=float32)\n",
      "tf.Tensor(307.53693, shape=(), dtype=float32)\n",
      "tf.Tensor(319.3537, shape=(), dtype=float32)\n",
      "tf.Tensor(321.9442, shape=(), dtype=float32)\n",
      "tf.Tensor(305.51746, shape=(), dtype=float32)\n",
      "tf.Tensor(313.60126, shape=(), dtype=float32)\n",
      "tf.Tensor(307.95462, shape=(), dtype=float32)\n",
      "tf.Tensor(299.64423, shape=(), dtype=float32)\n",
      "tf.Tensor(300.78656, shape=(), dtype=float32)\n",
      "tf.Tensor(292.63184, shape=(), dtype=float32)\n",
      "tf.Tensor(310.0464, shape=(), dtype=float32)\n",
      "tf.Tensor(284.9768, shape=(), dtype=float32)\n",
      "tf.Tensor(265.91022, shape=(), dtype=float32)\n",
      "tf.Tensor(311.11966, shape=(), dtype=float32)\n",
      "tf.Tensor(279.2216, shape=(), dtype=float32)\n",
      "tf.Tensor(300.37845, shape=(), dtype=float32)\n",
      "tf.Tensor(280.6094, shape=(), dtype=float32)\n",
      "tf.Tensor(299.00665, shape=(), dtype=float32)\n",
      "tf.Tensor(259.61667, shape=(), dtype=float32)\n",
      "tf.Tensor(267.5408, shape=(), dtype=float32)\n",
      "tf.Tensor(277.28812, shape=(), dtype=float32)\n",
      "tf.Tensor(279.04523, shape=(), dtype=float32)\n",
      "tf.Tensor(282.15726, shape=(), dtype=float32)\n",
      "tf.Tensor(277.74622, shape=(), dtype=float32)\n",
      "tf.Tensor(264.1967, shape=(), dtype=float32)\n",
      "tf.Tensor(246.33638, shape=(), dtype=float32)\n",
      "tf.Tensor(257.16714, shape=(), dtype=float32)\n",
      "tf.Tensor(253.01346, shape=(), dtype=float32)\n",
      "tf.Tensor(242.93564, shape=(), dtype=float32)\n",
      "tf.Tensor(257.08768, shape=(), dtype=float32)\n",
      "---------\n",
      "At epoch 3\n",
      "tf.Tensor(245.73033, shape=(), dtype=float32)\n",
      "tf.Tensor(225.47064, shape=(), dtype=float32)\n",
      "tf.Tensor(226.33229, shape=(), dtype=float32)\n",
      "tf.Tensor(246.26059, shape=(), dtype=float32)\n",
      "tf.Tensor(220.9453, shape=(), dtype=float32)\n",
      "tf.Tensor(209.26787, shape=(), dtype=float32)\n",
      "tf.Tensor(209.1602, shape=(), dtype=float32)\n",
      "tf.Tensor(206.70552, shape=(), dtype=float32)\n",
      "tf.Tensor(205.99178, shape=(), dtype=float32)\n",
      "tf.Tensor(193.26842, shape=(), dtype=float32)\n",
      "tf.Tensor(186.23273, shape=(), dtype=float32)\n",
      "tf.Tensor(179.8466, shape=(), dtype=float32)\n",
      "tf.Tensor(192.98138, shape=(), dtype=float32)\n",
      "tf.Tensor(189.77544, shape=(), dtype=float32)\n",
      "tf.Tensor(170.06374, shape=(), dtype=float32)\n",
      "tf.Tensor(170.32108, shape=(), dtype=float32)\n",
      "tf.Tensor(160.36005, shape=(), dtype=float32)\n",
      "tf.Tensor(164.62962, shape=(), dtype=float32)\n",
      "tf.Tensor(159.00311, shape=(), dtype=float32)\n",
      "tf.Tensor(167.98381, shape=(), dtype=float32)\n",
      "tf.Tensor(170.062, shape=(), dtype=float32)\n",
      "tf.Tensor(163.92688, shape=(), dtype=float32)\n",
      "tf.Tensor(167.64764, shape=(), dtype=float32)\n",
      "tf.Tensor(165.67809, shape=(), dtype=float32)\n",
      "tf.Tensor(157.39491, shape=(), dtype=float32)\n",
      "tf.Tensor(155.47704, shape=(), dtype=float32)\n",
      "tf.Tensor(159.81454, shape=(), dtype=float32)\n",
      "tf.Tensor(158.35416, shape=(), dtype=float32)\n",
      "tf.Tensor(171.15527, shape=(), dtype=float32)\n",
      "tf.Tensor(160.62433, shape=(), dtype=float32)\n",
      "tf.Tensor(152.94896, shape=(), dtype=float32)\n",
      "tf.Tensor(155.07379, shape=(), dtype=float32)\n",
      "tf.Tensor(151.28766, shape=(), dtype=float32)\n",
      "tf.Tensor(158.66132, shape=(), dtype=float32)\n",
      "tf.Tensor(153.36986, shape=(), dtype=float32)\n",
      "tf.Tensor(151.41635, shape=(), dtype=float32)\n",
      "tf.Tensor(145.75972, shape=(), dtype=float32)\n",
      "tf.Tensor(146.8933, shape=(), dtype=float32)\n",
      "tf.Tensor(147.99818, shape=(), dtype=float32)\n",
      "tf.Tensor(151.00726, shape=(), dtype=float32)\n",
      "tf.Tensor(147.16429, shape=(), dtype=float32)\n",
      "tf.Tensor(154.26288, shape=(), dtype=float32)\n",
      "---------\n",
      "At epoch 4\n",
      "tf.Tensor(143.82268, shape=(), dtype=float32)\n",
      "tf.Tensor(149.34062, shape=(), dtype=float32)\n",
      "tf.Tensor(151.96037, shape=(), dtype=float32)\n",
      "tf.Tensor(150.27884, shape=(), dtype=float32)\n",
      "tf.Tensor(143.05156, shape=(), dtype=float32)\n",
      "tf.Tensor(150.4692, shape=(), dtype=float32)\n",
      "tf.Tensor(141.98993, shape=(), dtype=float32)\n",
      "tf.Tensor(153.68082, shape=(), dtype=float32)\n",
      "tf.Tensor(142.90703, shape=(), dtype=float32)\n",
      "tf.Tensor(143.29303, shape=(), dtype=float32)\n"
     ]
    },
    {
     "name": "stdout",
     "output_type": "stream",
     "text": [
      "tf.Tensor(146.66177, shape=(), dtype=float32)\n",
      "tf.Tensor(141.19728, shape=(), dtype=float32)\n",
      "tf.Tensor(149.4175, shape=(), dtype=float32)\n",
      "tf.Tensor(143.38878, shape=(), dtype=float32)\n",
      "tf.Tensor(143.95811, shape=(), dtype=float32)\n",
      "tf.Tensor(141.19202, shape=(), dtype=float32)\n",
      "tf.Tensor(142.43019, shape=(), dtype=float32)\n",
      "tf.Tensor(139.33876, shape=(), dtype=float32)\n",
      "tf.Tensor(145.25482, shape=(), dtype=float32)\n",
      "tf.Tensor(131.49304, shape=(), dtype=float32)\n",
      "tf.Tensor(140.75934, shape=(), dtype=float32)\n",
      "tf.Tensor(140.96527, shape=(), dtype=float32)\n",
      "tf.Tensor(137.67303, shape=(), dtype=float32)\n",
      "tf.Tensor(140.14462, shape=(), dtype=float32)\n",
      "tf.Tensor(136.27315, shape=(), dtype=float32)\n",
      "tf.Tensor(141.21817, shape=(), dtype=float32)\n",
      "tf.Tensor(136.01439, shape=(), dtype=float32)\n",
      "tf.Tensor(138.6864, shape=(), dtype=float32)\n",
      "tf.Tensor(139.9835, shape=(), dtype=float32)\n",
      "tf.Tensor(140.07477, shape=(), dtype=float32)\n",
      "tf.Tensor(134.84265, shape=(), dtype=float32)\n",
      "tf.Tensor(128.54204, shape=(), dtype=float32)\n",
      "tf.Tensor(134.9904, shape=(), dtype=float32)\n",
      "tf.Tensor(138.11612, shape=(), dtype=float32)\n",
      "tf.Tensor(132.40648, shape=(), dtype=float32)\n",
      "tf.Tensor(131.9114, shape=(), dtype=float32)\n",
      "tf.Tensor(123.72596, shape=(), dtype=float32)\n",
      "tf.Tensor(138.86964, shape=(), dtype=float32)\n",
      "tf.Tensor(127.99865, shape=(), dtype=float32)\n",
      "tf.Tensor(133.69902, shape=(), dtype=float32)\n",
      "tf.Tensor(130.48573, shape=(), dtype=float32)\n",
      "tf.Tensor(136.45569, shape=(), dtype=float32)\n",
      "---------\n"
     ]
    }
   ],
   "source": [
    "optimizer = tf.train.AdamOptimizer(5e-5)\n",
    "\n",
    "for e in range(5):\n",
    "    print(f\"At epoch {e}\")\n",
    "    for i, img in enumerate(train_dataset):\n",
    "        img = tf.cast(img, tf.float32)\n",
    "        with tf.GradientTape() as tape:\n",
    "            tape.watch(vae.variables)\n",
    "\n",
    "            latent, out, mean, log_var = vae(img)\n",
    "            \n",
    "            # Reconstruction loss ? \n",
    "            cross_ent = tf.nn.sigmoid_cross_entropy_with_logits(logits=out, labels=img)\n",
    "            logpx_z = -tf.reduce_sum(cross_ent, axis=[1, 2, 3])\n",
    "            \n",
    "            # KL Loss -- From https://wiseodd.github.io/techblog/2017/01/24/vae-pytorch/\n",
    "            kl_loss = 0.5 * tf.reduce_sum(tf.exp(log_var) + mean**2 - 1. - log_var, axis=[1])\n",
    "            \n",
    "            loss = -tf.reduce_mean(logpx_z - kl_loss)\n",
    "            if i % 100 == 0:\n",
    "                print(loss)\n",
    "\n",
    "        grad = tape.gradient(loss, vae.variables)\n",
    "        optimizer.apply_gradients(zip(grad, vae.variables))\n",
    "    print(\"---------\")   "
   ]
  },
  {
   "cell_type": "code",
   "execution_count": 55,
   "metadata": {},
   "outputs": [
    {
     "data": {
      "text/plain": [
       "<matplotlib.image.AxesImage at 0x18f43b1470>"
      ]
     },
     "execution_count": 55,
     "metadata": {},
     "output_type": "execute_result"
    },
    {
     "data": {
      "image/png": "[encoded data removed]",
      "text/plain": [
       "<matplotlib.figure.Figure at 0x18f41e2f28>"
      ]
     },
     "metadata": {
      "needs_background": "light"
     },
     "output_type": "display_data"
    }
   ],
   "source": [
    "plt.imshow(tf.nn.sigmoid(out[4]).numpy())"
   ]
  },
  {
   "cell_type": "code",
   "execution_count": 104,
   "metadata": {},
   "outputs": [
    {
     "data": {
      "text/plain": [
       "<matplotlib.image.AxesImage at 0x1a2ad1cc88>"
      ]
     },
     "execution_count": 104,
     "metadata": {},
     "output_type": "execute_result"
    },
    {
     "data": {
      "image/png": "[encoded data removed]",
      "text/plain": [
       "<matplotlib.figure.Figure at 0x1a2ab0b7f0>"
      ]
     },
     "metadata": {
      "needs_background": "light"
     },
     "output_type": "display_data"
    }
   ],
   "source": [
    "sampled_latent, img = vae.sample()\n",
    "img = tf.squeeze(img)\n",
    "\n",
    "plt.imshow(img.numpy())"
   ]
  },
  {
   "cell_type": "code",
   "execution_count": 105,
   "metadata": {},
   "outputs": [
    {
     "data": {
      "text/plain": [
       "<matplotlib.image.AxesImage at 0x1a2ae03898>"
      ]
     },
     "execution_count": 105,
     "metadata": {},
     "output_type": "execute_result"
    },
    {
     "data": {
      "image/png": "[encoded data removed]",
      "text/plain": [
       "<matplotlib.figure.Figure at 0x1a2acce470>"
      ]
     },
     "metadata": {
      "needs_background": "light"
     },
     "output_type": "display_data"
    }
   ],
   "source": [
    "latents_sampled = sample_latent(size=1)\n",
    "\n",
    "latents_sampled[:, 1] = 0\n",
    "indices_sampled = latent_to_index(latents_sampled)\n",
    "imgs_sampled = imgs[indices_sampled]\n",
    "\n",
    "test_img = imgs_sampled[0]\n",
    "test_color_img = create_color(test_img)\n",
    "plt.imshow(test_color_img[3]*255)"
   ]
  },
  {
   "cell_type": "code",
   "execution_count": 106,
   "metadata": {},
   "outputs": [
    {
     "data": {
      "text/plain": [
       "<matplotlib.image.AxesImage at 0x1a2ae62d68>"
      ]
     },
     "execution_count": 106,
     "metadata": {},
     "output_type": "execute_result"
    },
    {
     "data": {
      "image/png": "[encoded data removed]",
      "text/plain": [
       "<matplotlib.figure.Figure at 0x1a2a13d470>"
      ]
     },
     "metadata": {
      "needs_background": "light"
     },
     "output_type": "display_data"
    }
   ],
   "source": [
    "test_color_img_single = tf.expand_dims(tf.convert_to_tensor(test_color_img[3]), axis=0)\n",
    "latent, out, _, _ = vae(tf.cast(test_color_img_single, tf.float32))\n",
    "\n",
    "out = tf.squeeze(tf.nn.sigmoid(out))\n",
    "plt.imshow(out.numpy())"
   ]
  },
  {
   "cell_type": "code",
   "execution_count": 107,
   "metadata": {},
   "outputs": [
    {
     "data": {
      "text/plain": [
       "<tf.Tensor: id=9040234, shape=(1, 50), dtype=float32, numpy=\n",
       "array([[-0.02342965, -0.20343375, -0.05967981, -0.077071  , -0.13226101,\n",
       "         0.0492489 ,  0.19663522, -0.29213667,  0.17777939,  0.255855  ,\n",
       "         0.13784643, -0.02398749,  0.17883791, -0.03709289, -0.18435912,\n",
       "         0.01505279,  0.10456769,  0.15605162, -0.0445848 ,  0.16287449,\n",
       "         0.1890992 ,  0.19201624,  0.19259694, -0.0641951 , -0.05307774,\n",
       "         0.07191062,  0.08348396, -0.03936914, -0.24847431, -0.07742338,\n",
       "        -0.16073689,  0.33051744, -0.07244362, -0.00217976, -0.14142641,\n",
       "        -0.2843136 ,  0.24842599,  0.00253489,  0.17063394, -0.09474639,\n",
       "        -0.11164822,  0.13182671,  0.21852723, -0.02051578,  0.01031644,\n",
       "         0.04486067,  0.19308722,  0.10621109,  0.17994371, -0.06022559]],\n",
       "      dtype=float32)>"
      ]
     },
     "execution_count": 107,
     "metadata": {},
     "output_type": "execute_result"
    }
   ],
   "source": [
    "diff = latent - sampled_latent\n",
    "number_steps = 10\n",
    "diff = diff/number_steps \n",
    "diff"
   ]
  },
  {
   "cell_type": "code",
   "execution_count": 108,
   "metadata": {},
   "outputs": [
    {
     "data": {
      "text/plain": [
       "(10, 64, 64, 3)"
      ]
     },
     "execution_count": 108,
     "metadata": {},
     "output_type": "execute_result"
    }
   ],
   "source": [
    "middle = sampled_latent\n",
    "frames = []\n",
    "for i in range(number_steps):\n",
    "    out = tf.nn.sigmoid(vae.decoder(middle))\n",
    "    out = tf.squeeze(out)\n",
    "    frames.append(out.numpy())\n",
    "    middle += diff\n",
    "\n",
    "frames = np.stack(frames)\n",
    "frames.shape"
   ]
  },
  {
   "cell_type": "code",
   "execution_count": 109,
   "metadata": {},
   "outputs": [
    {
     "data": {
      "image/png": "[encoded data removed]",
      "text/plain": [
       "<matplotlib.figure.Figure at 0x1a2ae3ceb8>"
      ]
     },
     "metadata": {
      "needs_background": "light"
     },
     "output_type": "display_data"
    }
   ],
   "source": [
    "show_images_grid(frames, num_images=10)"
   ]
  },
  {
   "cell_type": "code",
   "execution_count": 110,
   "metadata": {},
   "outputs": [],
   "source": [
    "def traverse_latent(latent, axis, traverse_length=9, total_step=9):\n",
    "    step_size = traverse_length * 2 / total_step\n",
    "    item = latent[:, axis]\n",
    "    \n",
    "    item_evolution = []\n",
    "    item = item - traverse_length\n",
    "    import copy\n",
    "    for i in range(total_step):\n",
    "        new_latent = copy.deepcopy(latent)\n",
    "        new_latent[:, axis] = item\n",
    "        item_evolution.append(new_latent)\n",
    "        item += step_size\n",
    "        \n",
    "    traversed_latent = np.squeeze(np.stack(item_evolution))\n",
    "    return traversed_latent"
   ]
  },
  {
   "cell_type": "code",
   "execution_count": 115,
   "metadata": {},
   "outputs": [
    {
     "data": {
      "image/png": "[encoded data removed]",
      "text/plain": [
       "<matplotlib.figure.Figure at 0x1a2e336ef0>"
      ]
     },
     "metadata": {
      "needs_background": "light"
     },
     "output_type": "display_data"
    }
   ],
   "source": [
    "all_latent = traverse_latent(latent.numpy(), 1, total_step=10)\n",
    "out = vae.decoder(tf.convert_to_tensor(all_latent))\n",
    "out = tf.squeeze(tf.nn.sigmoid(out))\n",
    "\n",
    "show_images_grid(out.numpy(), 10)"
   ]
  },
  {
   "cell_type": "code",
   "execution_count": null,
   "metadata": {},
   "outputs": [],
   "source": []
  }
 ],
 "metadata": {
  "kernelspec": {
   "display_name": "Python 3",
   "language": "python",
   "name": "python3"
  },
  "language_info": {
   "codemirror_mode": {
    "name": "ipython",
    "version": 3
   },
   "file_extension": ".py",
   "mimetype": "text/x-python",
   "name": "python",
   "nbconvert_exporter": "python",
   "pygments_lexer": "ipython3",
   "version": "3.6.6"
  }
 },
 "nbformat": 4,
 "nbformat_minor": 2
}
