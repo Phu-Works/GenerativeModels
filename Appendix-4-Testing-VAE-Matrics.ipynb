{
 "cells": [
  {
   "cell_type": "code",
   "execution_count": 1,
   "metadata": {},
   "outputs": [],
   "source": [
    "import tensorflow as tf \n",
    "tf.enable_eager_execution()\n",
    "tf.random.set_random_seed(48)"
   ]
  },
  {
   "cell_type": "code",
   "execution_count": 2,
   "metadata": {},
   "outputs": [],
   "source": [
    "import numpy as np\n",
    "import matplotlib.pyplot as plt\n",
    "import cv2\n",
    "import os\n",
    "import pickle \n",
    "\n",
    "import itertools"
   ]
  },
  {
   "cell_type": "code",
   "execution_count": 3,
   "metadata": {},
   "outputs": [],
   "source": [
    "training_set = np.load(\"linear_classifier_train/VAE_Training_Linear.npy\")\n",
    "testing_set = np.load(\"linear_classifier_train/VAE_Testing_Linear.npy\")"
   ]
  },
  {
   "cell_type": "code",
   "execution_count": 4,
   "metadata": {},
   "outputs": [],
   "source": [
    "training_label = pickle.load(open('linear_classifier_train/VAE_Training_Linear_label.pkl', 'rb'))\n",
    "testing_label = pickle.load(open('linear_classifier_train/VAE_Testing_Linear_label.pkl', 'rb'))"
   ]
  },
  {
   "cell_type": "code",
   "execution_count": 5,
   "metadata": {},
   "outputs": [],
   "source": [
    "training_label = [t-1 for t in training_label]\n",
    "testing_label = [t-1 for t in testing_label]"
   ]
  },
  {
   "cell_type": "code",
   "execution_count": 6,
   "metadata": {},
   "outputs": [],
   "source": [
    "TRAIN_BUF = 50000\n",
    "BATCH_SIZE = 32"
   ]
  },
  {
   "cell_type": "code",
   "execution_count": 7,
   "metadata": {},
   "outputs": [],
   "source": [
    "assert len(training_label) == training_set.shape[0]\n",
    "train_dataset = tf.data.Dataset.from_tensor_slices((training_set, training_label)).shuffle(TRAIN_BUF).batch(BATCH_SIZE)"
   ]
  },
  {
   "cell_type": "code",
   "execution_count": 8,
   "metadata": {},
   "outputs": [],
   "source": [
    "class Classifier(tf.keras.Model):\n",
    "    \"\"\"Same Architecture\"\"\"\n",
    "    def __init__(self):\n",
    "        super().__init__()\n",
    "        self.layer = tf.keras.layers.Dense(5)\n",
    "        \n",
    "    def call(self, latent):\n",
    "        layer_out = self.layer(latent)\n",
    "        return layer_out, tf.nn.softmax(layer_out)"
   ]
  },
  {
   "cell_type": "code",
   "execution_count": 9,
   "metadata": {},
   "outputs": [],
   "source": [
    "classifier = Classifier()\n",
    "optimizer = tf.train.AdamOptimizer(5e-5)"
   ]
  },
  {
   "cell_type": "code",
   "execution_count": 10,
   "metadata": {},
   "outputs": [
    {
     "name": "stdout",
     "output_type": "stream",
     "text": [
      "At epoch 0\n",
      "tf.Tensor(2.4714499, shape=(), dtype=float32)\n",
      "tf.Tensor(1.8924434, shape=(), dtype=float32)\n",
      "---------\n",
      "At epoch 1\n",
      "tf.Tensor(1.785587, shape=(), dtype=float32)\n",
      "tf.Tensor(1.5356181, shape=(), dtype=float32)\n",
      "---------\n",
      "At epoch 2\n",
      "tf.Tensor(1.5164397, shape=(), dtype=float32)\n",
      "tf.Tensor(1.4142795, shape=(), dtype=float32)\n",
      "---------\n",
      "At epoch 3\n",
      "tf.Tensor(1.42574, shape=(), dtype=float32)\n",
      "tf.Tensor(1.3615053, shape=(), dtype=float32)\n",
      "---------\n",
      "At epoch 4\n",
      "tf.Tensor(1.3673112, shape=(), dtype=float32)\n",
      "tf.Tensor(1.3151616, shape=(), dtype=float32)\n",
      "---------\n",
      "At epoch 5\n",
      "tf.Tensor(1.3119422, shape=(), dtype=float32)\n",
      "tf.Tensor(1.270907, shape=(), dtype=float32)\n",
      "---------\n",
      "At epoch 6\n",
      "tf.Tensor(1.2587487, shape=(), dtype=float32)\n",
      "tf.Tensor(1.2287319, shape=(), dtype=float32)\n",
      "---------\n",
      "At epoch 7\n",
      "tf.Tensor(1.2079842, shape=(), dtype=float32)\n",
      "tf.Tensor(1.1886506, shape=(), dtype=float32)\n",
      "---------\n",
      "At epoch 8\n",
      "tf.Tensor(1.1597064, shape=(), dtype=float32)\n",
      "tf.Tensor(1.1506293, shape=(), dtype=float32)\n",
      "---------\n",
      "At epoch 9\n",
      "tf.Tensor(1.1138875, shape=(), dtype=float32)\n",
      "tf.Tensor(1.1146123, shape=(), dtype=float32)\n",
      "---------\n",
      "At epoch 10\n",
      "tf.Tensor(1.0704664, shape=(), dtype=float32)\n",
      "tf.Tensor(1.080534, shape=(), dtype=float32)\n",
      "---------\n",
      "At epoch 11\n",
      "tf.Tensor(1.0293672, shape=(), dtype=float32)\n",
      "tf.Tensor(1.0483212, shape=(), dtype=float32)\n",
      "---------\n",
      "At epoch 12\n",
      "tf.Tensor(0.9905054, shape=(), dtype=float32)\n",
      "tf.Tensor(1.0178977, shape=(), dtype=float32)\n",
      "---------\n",
      "At epoch 13\n",
      "tf.Tensor(0.95379126, shape=(), dtype=float32)\n",
      "tf.Tensor(0.9891826, shape=(), dtype=float32)\n",
      "---------\n",
      "At epoch 14\n",
      "tf.Tensor(0.9191312, shape=(), dtype=float32)\n",
      "tf.Tensor(0.96209425, shape=(), dtype=float32)\n",
      "---------\n",
      "At epoch 15\n",
      "tf.Tensor(0.88643026, shape=(), dtype=float32)\n",
      "tf.Tensor(0.936551, shape=(), dtype=float32)\n",
      "---------\n",
      "At epoch 16\n",
      "tf.Tensor(0.85559213, shape=(), dtype=float32)\n",
      "tf.Tensor(0.9124706, shape=(), dtype=float32)\n",
      "---------\n",
      "At epoch 17\n",
      "tf.Tensor(0.826521, shape=(), dtype=float32)\n",
      "tf.Tensor(0.8897722, shape=(), dtype=float32)\n",
      "---------\n",
      "At epoch 18\n",
      "tf.Tensor(0.79912126, shape=(), dtype=float32)\n",
      "tf.Tensor(0.86837745, shape=(), dtype=float32)\n",
      "---------\n",
      "At epoch 19\n",
      "tf.Tensor(0.77329993, shape=(), dtype=float32)\n",
      "tf.Tensor(0.8482099, shape=(), dtype=float32)\n",
      "---------\n",
      "At epoch 20\n",
      "tf.Tensor(0.74896693, shape=(), dtype=float32)\n",
      "tf.Tensor(0.829196, shape=(), dtype=float32)\n",
      "---------\n",
      "At epoch 21\n",
      "tf.Tensor(0.7260338, shape=(), dtype=float32)\n",
      "tf.Tensor(0.81126446, shape=(), dtype=float32)\n",
      "---------\n",
      "At epoch 22\n",
      "tf.Tensor(0.7044163, shape=(), dtype=float32)\n",
      "tf.Tensor(0.79434836, shape=(), dtype=float32)\n",
      "---------\n",
      "At epoch 23\n",
      "tf.Tensor(0.6840341, shape=(), dtype=float32)\n",
      "tf.Tensor(0.7783843, shape=(), dtype=float32)\n",
      "---------\n",
      "At epoch 24\n",
      "tf.Tensor(0.6648102, shape=(), dtype=float32)\n",
      "tf.Tensor(0.7633109, shape=(), dtype=float32)\n",
      "---------\n",
      "At epoch 25\n",
      "tf.Tensor(0.6466711, shape=(), dtype=float32)\n",
      "tf.Tensor(0.7490714, shape=(), dtype=float32)\n",
      "---------\n",
      "At epoch 26\n",
      "tf.Tensor(0.6295487, shape=(), dtype=float32)\n",
      "tf.Tensor(0.7356123, shape=(), dtype=float32)\n",
      "---------\n",
      "At epoch 27\n",
      "tf.Tensor(0.61337733, shape=(), dtype=float32)\n",
      "tf.Tensor(0.7228827, shape=(), dtype=float32)\n",
      "---------\n",
      "At epoch 28\n",
      "tf.Tensor(0.59809554, shape=(), dtype=float32)\n",
      "tf.Tensor(0.71083546, shape=(), dtype=float32)\n",
      "---------\n",
      "At epoch 29\n",
      "tf.Tensor(0.5836463, shape=(), dtype=float32)\n",
      "tf.Tensor(0.69942653, shape=(), dtype=float32)\n",
      "---------\n",
      "At epoch 30\n",
      "tf.Tensor(0.5699758, shape=(), dtype=float32)\n",
      "tf.Tensor(0.6886147, shape=(), dtype=float32)\n",
      "---------\n",
      "At epoch 31\n",
      "tf.Tensor(0.5570339, shape=(), dtype=float32)\n",
      "tf.Tensor(0.6783612, shape=(), dtype=float32)\n",
      "---------\n",
      "At epoch 32\n",
      "tf.Tensor(0.54477286, shape=(), dtype=float32)\n",
      "tf.Tensor(0.66863006, shape=(), dtype=float32)\n",
      "---------\n",
      "At epoch 33\n",
      "tf.Tensor(0.5331499, shape=(), dtype=float32)\n",
      "tf.Tensor(0.65938795, shape=(), dtype=float32)\n",
      "---------\n",
      "At epoch 34\n",
      "tf.Tensor(0.52212286, shape=(), dtype=float32)\n",
      "tf.Tensor(0.650604, shape=(), dtype=float32)\n",
      "---------\n",
      "At epoch 35\n",
      "tf.Tensor(0.51165485, shape=(), dtype=float32)\n",
      "tf.Tensor(0.6422491, shape=(), dtype=float32)\n",
      "---------\n",
      "At epoch 36\n",
      "tf.Tensor(0.5017098, shape=(), dtype=float32)\n",
      "tf.Tensor(0.6342959, shape=(), dtype=float32)\n",
      "---------\n",
      "At epoch 37\n",
      "tf.Tensor(0.49225426, shape=(), dtype=float32)\n",
      "tf.Tensor(0.62671965, shape=(), dtype=float32)\n",
      "---------\n",
      "At epoch 38\n",
      "tf.Tensor(0.48325795, shape=(), dtype=float32)\n",
      "tf.Tensor(0.6194968, shape=(), dtype=float32)\n",
      "---------\n",
      "At epoch 39\n",
      "tf.Tensor(0.47469234, shape=(), dtype=float32)\n",
      "tf.Tensor(0.6126059, shape=(), dtype=float32)\n",
      "---------\n"
     ]
    }
   ],
   "source": [
    "for epoch in range(40):\n",
    "    print(f\"At epoch {epoch}\")\n",
    "    for i, (data, label) in enumerate(train_dataset):\n",
    "        with tf.GradientTape() as tape:\n",
    "            tape.watch(classifier.variables)\n",
    "            \n",
    "            out, _ = classifier(data)\n",
    "            label = tf.expand_dims(label, axis=-1)\n",
    "            loss = tf.losses.sparse_softmax_cross_entropy(labels=label, logits=out)\n",
    "            loss = tf.reduce_mean(loss)\n",
    "            \n",
    "            if i % 1000 == 0:\n",
    "                print(loss)\n",
    "        grad = tape.gradient(loss, classifier.variables)\n",
    "        optimizer.apply_gradients(zip(grad, classifier.variables))\n",
    "    print(f\"---------\")"
   ]
  },
  {
   "cell_type": "code",
   "execution_count": 11,
   "metadata": {},
   "outputs": [],
   "source": [
    "_, out_test = classifier(tf.convert_to_tensor(testing_set))\n",
    "all_labels = tf.argmax(out_test, axis=1).numpy()\n",
    "testing_label = np.array(testing_label)"
   ]
  },
  {
   "cell_type": "code",
   "execution_count": 12,
   "metadata": {},
   "outputs": [
    {
     "name": "stdout",
     "output_type": "stream",
     "text": [
      "Accuracy: 77.7%\n"
     ]
    }
   ],
   "source": [
    "# testing_label.shape \n",
    "acc = np.sum(np.equal(all_labels, testing_label))/testing_label.shape[0]\n",
    "print(f\"Accuracy: {acc*100}%\")"
   ]
  },
  {
   "cell_type": "code",
   "execution_count": 13,
   "metadata": {},
   "outputs": [],
   "source": [
    "# From https://scikit-learn.org/stable/auto_examples/model_selection/plot_confusion_matrix.html\n",
    "def plot_confusion_matrix(cm, classes,\n",
    "                          normalize=False,\n",
    "                          title='Confusion matrix',\n",
    "                          cmap=plt.cm.Blues):\n",
    "    \"\"\"\n",
    "    This function prints and plots the confusion matrix.\n",
    "    Normalization can be applied by setting `normalize=True`.\n",
    "    \"\"\"\n",
    "    if normalize:\n",
    "        cm = cm.astype('float') / cm.sum(axis=1)[:, np.newaxis]\n",
    "        print(\"Normalized confusion matrix\")\n",
    "    else:\n",
    "        print('Confusion matrix, without normalization')\n",
    "\n",
    "    print(cm)\n",
    "\n",
    "    plt.imshow(cm, interpolation='nearest', cmap=cmap)\n",
    "    plt.title(title)\n",
    "    plt.colorbar()\n",
    "    tick_marks = np.arange(len(classes))\n",
    "    plt.xticks(tick_marks, classes, rotation=45)\n",
    "    plt.yticks(tick_marks, classes)\n",
    "\n",
    "    fmt = '.2f' if normalize else 'd'\n",
    "    thresh = cm.max() / 2.\n",
    "    for i, j in itertools.product(range(cm.shape[0]), range(cm.shape[1])):\n",
    "        plt.text(j, i, format(cm[i, j], fmt),\n",
    "                 horizontalalignment=\"center\",\n",
    "                 color=\"white\" if cm[i, j] > thresh else \"black\")\n",
    "\n",
    "    plt.ylabel('True label')\n",
    "    plt.xlabel('Predicted label')\n",
    "    plt.tight_layout()"
   ]
  },
  {
   "cell_type": "code",
   "execution_count": 14,
   "metadata": {},
   "outputs": [
    {
     "name": "stdout",
     "output_type": "stream",
     "text": [
      "Confusion matrix, without normalization\n",
      "[[ 433  199  364    3    1]\n",
      " [  26  898   73    1    2]\n",
      " [ 383   59  554    3    1]\n",
      " [   0    0    0 1000    0]\n",
      " [   0    0    0    0 1000]]\n"
     ]
    },
    {
     "data": {
      "image/png": "[encoded data removed]",
      "text/plain": [
       "<matplotlib.figure.Figure at 0x1a29dc0a20>"
      ]
     },
     "metadata": {
      "needs_background": "light"
     },
     "output_type": "display_data"
    }
   ],
   "source": [
    "from sklearn.metrics import confusion_matrix\n",
    "plot_confusion_matrix(confusion_matrix(testing_label, all_labels), \n",
    "                      classes=['1', '2', '3', '4', '5'],\n",
    "                      title='Confusion matrix, without normalization')"
   ]
  },
  {
   "cell_type": "code",
   "execution_count": null,
   "metadata": {},
   "outputs": [],
   "source": []
  }
 ],
 "metadata": {
  "kernelspec": {
   "display_name": "Python 3",
   "language": "python",
   "name": "python3"
  },
  "language_info": {
   "codemirror_mode": {
    "name": "ipython",
    "version": 3
   },
   "file_extension": ".py",
   "mimetype": "text/x-python",
   "name": "python",
   "nbconvert_exporter": "python",
   "pygments_lexer": "ipython3",
   "version": "3.6.6"
  }
 },
 "nbformat": 4,
 "nbformat_minor": 2
}
