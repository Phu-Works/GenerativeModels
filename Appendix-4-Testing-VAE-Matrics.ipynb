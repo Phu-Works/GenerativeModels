{
 "cells": [
  {
   "cell_type": "code",
   "execution_count": 1,
   "metadata": {},
   "outputs": [],
   "source": [
    "import tensorflow as tf \n",
    "tf.enable_eager_execution()"
   ]
  },
  {
   "cell_type": "code",
   "execution_count": 2,
   "metadata": {},
   "outputs": [],
   "source": [
    "import numpy as np\n",
    "import matplotlib.pyplot as plt\n",
    "import cv2\n",
    "import os\n",
    "import pickle \n",
    "\n",
    "import itertools"
   ]
  },
  {
   "cell_type": "code",
   "execution_count": 3,
   "metadata": {},
   "outputs": [],
   "source": [
    "training_set = np.load(\"linear_classifier_train/VAE_Training_Linear.npy\")\n",
    "testing_set = np.load(\"linear_classifier_train/VAE_Testing_Linear.npy\")"
   ]
  },
  {
   "cell_type": "code",
   "execution_count": 4,
   "metadata": {},
   "outputs": [],
   "source": [
    "training_label = pickle.load(open('linear_classifier_train/VAE_Training_Linear_label.pkl', 'rb'))\n",
    "testing_label = pickle.load(open('linear_classifier_train/VAE_Testing_Linear_label.pkl', 'rb'))"
   ]
  },
  {
   "cell_type": "code",
   "execution_count": 5,
   "metadata": {},
   "outputs": [],
   "source": [
    "training_label = [t-1 for t in training_label]\n",
    "testing_label = [t-1 for t in testing_label]"
   ]
  },
  {
   "cell_type": "code",
   "execution_count": 6,
   "metadata": {},
   "outputs": [],
   "source": [
    "TRAIN_BUF = 50000\n",
    "BATCH_SIZE = 32"
   ]
  },
  {
   "cell_type": "code",
   "execution_count": 7,
   "metadata": {},
   "outputs": [],
   "source": [
    "assert len(training_label) == training_set.shape[0]\n",
    "train_dataset = tf.data.Dataset.from_tensor_slices((training_set, training_label)).shuffle(TRAIN_BUF).batch(BATCH_SIZE)"
   ]
  },
  {
   "cell_type": "code",
   "execution_count": 8,
   "metadata": {},
   "outputs": [],
   "source": [
    "class Classifier(tf.keras.Model):\n",
    "    \"\"\"Same Architecture\"\"\"\n",
    "    def __init__(self):\n",
    "        super().__init__()\n",
    "        self.layer = tf.keras.layers.Dense(5)\n",
    "        \n",
    "    def call(self, latent):\n",
    "        layer_out = self.layer(latent)\n",
    "        return layer_out, tf.nn.softmax(layer_out)"
   ]
  },
  {
   "cell_type": "code",
   "execution_count": 9,
   "metadata": {},
   "outputs": [],
   "source": [
    "classifier = Classifier()\n",
    "optimizer = tf.train.AdamOptimizer(5e-5)"
   ]
  },
  {
   "cell_type": "code",
   "execution_count": 10,
   "metadata": {},
   "outputs": [
    {
     "name": "stdout",
     "output_type": "stream",
     "text": [
      "At epoch 0\n",
      "tf.Tensor(2.002904, shape=(), dtype=float32)\n",
      "tf.Tensor(1.7031612, shape=(), dtype=float32)\n",
      "---------\n",
      "At epoch 1\n",
      "tf.Tensor(1.603355, shape=(), dtype=float32)\n",
      "tf.Tensor(1.583606, shape=(), dtype=float32)\n",
      "---------\n",
      "At epoch 2\n",
      "tf.Tensor(1.56254, shape=(), dtype=float32)\n",
      "tf.Tensor(1.5529683, shape=(), dtype=float32)\n",
      "---------\n",
      "At epoch 3\n",
      "tf.Tensor(1.4901829, shape=(), dtype=float32)\n",
      "tf.Tensor(1.4407932, shape=(), dtype=float32)\n",
      "---------\n",
      "At epoch 4\n",
      "tf.Tensor(1.4254284, shape=(), dtype=float32)\n",
      "tf.Tensor(1.4320023, shape=(), dtype=float32)\n",
      "---------\n",
      "At epoch 5\n",
      "tf.Tensor(1.3799639, shape=(), dtype=float32)\n",
      "tf.Tensor(1.4220486, shape=(), dtype=float32)\n",
      "---------\n",
      "At epoch 6\n",
      "tf.Tensor(1.4483109, shape=(), dtype=float32)\n",
      "tf.Tensor(1.3344716, shape=(), dtype=float32)\n",
      "---------\n",
      "At epoch 7\n",
      "tf.Tensor(1.4017034, shape=(), dtype=float32)\n",
      "tf.Tensor(1.324187, shape=(), dtype=float32)\n",
      "---------\n",
      "At epoch 8\n",
      "tf.Tensor(1.3349986, shape=(), dtype=float32)\n",
      "tf.Tensor(1.2562499, shape=(), dtype=float32)\n",
      "---------\n",
      "At epoch 9\n",
      "tf.Tensor(1.2059017, shape=(), dtype=float32)\n",
      "tf.Tensor(1.1950552, shape=(), dtype=float32)\n",
      "---------\n",
      "At epoch 10\n",
      "tf.Tensor(1.220085, shape=(), dtype=float32)\n",
      "tf.Tensor(1.1750004, shape=(), dtype=float32)\n",
      "---------\n",
      "At epoch 11\n",
      "tf.Tensor(1.2590964, shape=(), dtype=float32)\n",
      "tf.Tensor(1.1677045, shape=(), dtype=float32)\n",
      "---------\n",
      "At epoch 12\n",
      "tf.Tensor(1.0782586, shape=(), dtype=float32)\n",
      "tf.Tensor(1.1466084, shape=(), dtype=float32)\n",
      "---------\n",
      "At epoch 13\n",
      "tf.Tensor(1.1133623, shape=(), dtype=float32)\n",
      "tf.Tensor(1.142257, shape=(), dtype=float32)\n",
      "---------\n",
      "At epoch 14\n",
      "tf.Tensor(1.0278497, shape=(), dtype=float32)\n",
      "tf.Tensor(1.135198, shape=(), dtype=float32)\n",
      "---------\n",
      "At epoch 15\n",
      "tf.Tensor(1.0878108, shape=(), dtype=float32)\n",
      "tf.Tensor(1.0732808, shape=(), dtype=float32)\n",
      "---------\n",
      "At epoch 16\n",
      "tf.Tensor(1.0747526, shape=(), dtype=float32)\n",
      "tf.Tensor(0.9813229, shape=(), dtype=float32)\n",
      "---------\n",
      "At epoch 17\n",
      "tf.Tensor(1.1132977, shape=(), dtype=float32)\n",
      "tf.Tensor(0.97525656, shape=(), dtype=float32)\n",
      "---------\n",
      "At epoch 18\n",
      "tf.Tensor(0.9866354, shape=(), dtype=float32)\n",
      "tf.Tensor(1.0118876, shape=(), dtype=float32)\n",
      "---------\n",
      "At epoch 19\n",
      "tf.Tensor(0.95606947, shape=(), dtype=float32)\n",
      "tf.Tensor(1.0622156, shape=(), dtype=float32)\n",
      "---------\n"
     ]
    }
   ],
   "source": [
    "for epoch in range(20):\n",
    "    print(f\"At epoch {epoch}\")\n",
    "    for i, (data, label) in enumerate(train_dataset):\n",
    "        with tf.GradientTape() as tape:\n",
    "            tape.watch(classifier.variables)\n",
    "            \n",
    "            out, _ = classifier(data)\n",
    "            label = tf.expand_dims(label, axis=-1)\n",
    "            loss = tf.losses.sparse_softmax_cross_entropy(labels=label, logits=out)\n",
    "            loss = tf.reduce_mean(loss)\n",
    "            \n",
    "            if i % 1000 == 0:\n",
    "                print(loss)\n",
    "        grad = tape.gradient(loss, classifier.variables)\n",
    "        optimizer.apply_gradients(zip(grad, classifier.variables))\n",
    "    print(f\"---------\")"
   ]
  },
  {
   "cell_type": "code",
   "execution_count": 11,
   "metadata": {},
   "outputs": [],
   "source": [
    "_, out_test = classifier(tf.convert_to_tensor(testing_set))\n",
    "all_labels = tf.argmax(out_test, axis=1).numpy()\n",
    "testing_label = np.array(testing_label)"
   ]
  },
  {
   "cell_type": "code",
   "execution_count": 12,
   "metadata": {},
   "outputs": [
    {
     "name": "stdout",
     "output_type": "stream",
     "text": [
      "Accuracy: 70.06%\n"
     ]
    }
   ],
   "source": [
    "# testing_label.shape \n",
    "acc = np.sum(np.equal(all_labels, testing_label))/testing_label.shape[0]\n",
    "print(f\"Accuracy: {acc*100}%\")"
   ]
  },
  {
   "cell_type": "code",
   "execution_count": 13,
   "metadata": {},
   "outputs": [],
   "source": [
    "# From https://scikit-learn.org/stable/auto_examples/model_selection/plot_confusion_matrix.html\n",
    "def plot_confusion_matrix(cm, classes,\n",
    "                          normalize=False,\n",
    "                          title='Confusion matrix',\n",
    "                          cmap=plt.cm.Blues):\n",
    "    \"\"\"\n",
    "    This function prints and plots the confusion matrix.\n",
    "    Normalization can be applied by setting `normalize=True`.\n",
    "    \"\"\"\n",
    "    if normalize:\n",
    "        cm = cm.astype('float') / cm.sum(axis=1)[:, np.newaxis]\n",
    "        print(\"Normalized confusion matrix\")\n",
    "    else:\n",
    "        print('Confusion matrix, without normalization')\n",
    "\n",
    "    print(cm)\n",
    "\n",
    "    plt.imshow(cm, interpolation='nearest', cmap=cmap)\n",
    "    plt.title(title)\n",
    "    plt.colorbar()\n",
    "    tick_marks = np.arange(len(classes))\n",
    "    plt.xticks(tick_marks, classes, rotation=45)\n",
    "    plt.yticks(tick_marks, classes)\n",
    "\n",
    "    fmt = '.2f' if normalize else 'd'\n",
    "    thresh = cm.max() / 2.\n",
    "    for i, j in itertools.product(range(cm.shape[0]), range(cm.shape[1])):\n",
    "        plt.text(j, i, format(cm[i, j], fmt),\n",
    "                 horizontalalignment=\"center\",\n",
    "                 color=\"white\" if cm[i, j] > thresh else \"black\")\n",
    "\n",
    "    plt.ylabel('True label')\n",
    "    plt.xlabel('Predicted label')\n",
    "    plt.tight_layout()"
   ]
  },
  {
   "cell_type": "code",
   "execution_count": 14,
   "metadata": {},
   "outputs": [
    {
     "name": "stdout",
     "output_type": "stream",
     "text": [
      "Confusion matrix, without normalization\n",
      "[[ 546  133  319    1    1]\n",
      " [ 410  441  136    1   12]\n",
      " [ 405   65  516   12    2]\n",
      " [   0    0    0 1000    0]\n",
      " [   0    0    0    0 1000]]\n"
     ]
    },
    {
     "data": {
      "image/png": "[encoded data removed]",
      "text/plain": [
       "<matplotlib.figure.Figure at 0x1a2bc03e10>"
      ]
     },
     "metadata": {
      "needs_background": "light"
     },
     "output_type": "display_data"
    }
   ],
   "source": [
    "from sklearn.metrics import confusion_matrix\n",
    "plot_confusion_matrix(confusion_matrix(testing_label, all_labels), \n",
    "                      classes=['1', '2', '3', '4', '5'],\n",
    "                      title='Confusion matrix, without normalization')"
   ]
  },
  {
   "cell_type": "code",
   "execution_count": null,
   "metadata": {},
   "outputs": [],
   "source": []
  }
 ],
 "metadata": {
  "kernelspec": {
   "display_name": "Python 3",
   "language": "python",
   "name": "python3"
  },
  "language_info": {
   "codemirror_mode": {
    "name": "ipython",
    "version": 3
   },
   "file_extension": ".py",
   "mimetype": "text/x-python",
   "name": "python",
   "nbconvert_exporter": "python",
   "pygments_lexer": "ipython3",
   "version": "3.6.6"
  }
 },
 "nbformat": 4,
 "nbformat_minor": 2
}
