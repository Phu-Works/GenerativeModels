{
 "cells": [
  {
   "cell_type": "code",
   "execution_count": 1,
   "metadata": {},
   "outputs": [],
   "source": [
    "import tensorflow as tf \n",
    "tf.enable_eager_execution()"
   ]
  },
  {
   "cell_type": "code",
   "execution_count": 2,
   "metadata": {},
   "outputs": [],
   "source": [
    "import numpy as np\n",
    "import matplotlib.pyplot as plt\n",
    "import cv2\n",
    "import itertools\n",
    "import os\n",
    "\n",
    "experiment_name = \"VAEMultipleShapesNoColor\""
   ]
  },
  {
   "cell_type": "code",
   "execution_count": 3,
   "metadata": {},
   "outputs": [],
   "source": [
    "dataset = np.load('dsprites-dataset/dsprites_multiple_shapes_no_color.npz.npy')"
   ]
  },
  {
   "cell_type": "code",
   "execution_count": 4,
   "metadata": {},
   "outputs": [],
   "source": [
    "def show_images_grid(imgs_, num_images=25):\n",
    "    ncols = int(np.ceil(num_images**0.5))\n",
    "    nrows = int(np.ceil(num_images / ncols))\n",
    "    _, axes = plt.subplots(ncols, nrows, figsize=(nrows * 3, ncols * 3))\n",
    "    axes = axes.flatten()\n",
    "\n",
    "    for ax_i, ax in enumerate(axes):\n",
    "        if ax_i < num_images:\n",
    "            ax.imshow(imgs_[ax_i], cmap='Greys_r',  interpolation='nearest')\n",
    "            ax.set_xticks([])\n",
    "            ax.set_yticks([])\n",
    "        else:\n",
    "            ax.axis('off')"
   ]
  },
  {
   "cell_type": "code",
   "execution_count": 5,
   "metadata": {},
   "outputs": [
    {
     "data": {
      "image/png": "[encoded data removed]",
      "text/plain": [
       "<matplotlib.figure.Figure at 0x1829b55278>"
      ]
     },
     "metadata": {},
     "output_type": "display_data"
    }
   ],
   "source": [
    "show_images_grid(np.squeeze(dataset), 9)"
   ]
  },
  {
   "cell_type": "code",
   "execution_count": 6,
   "metadata": {},
   "outputs": [],
   "source": [
    "dataset = dataset.astype('float32')"
   ]
  },
  {
   "cell_type": "code",
   "execution_count": 7,
   "metadata": {},
   "outputs": [
    {
     "data": {
      "text/plain": [
       "(2497500, 64, 64, 1)"
      ]
     },
     "execution_count": 7,
     "metadata": {},
     "output_type": "execute_result"
    }
   ],
   "source": [
    "dataset.shape"
   ]
  },
  {
   "cell_type": "code",
   "execution_count": 8,
   "metadata": {},
   "outputs": [],
   "source": [
    "TRAIN_BUF = 100000\n",
    "BATCH_SIZE = 100"
   ]
  },
  {
   "cell_type": "code",
   "execution_count": 9,
   "metadata": {},
   "outputs": [],
   "source": [
    "train_dataset = tf.data.Dataset.from_tensor_slices(dataset[:100000]).shuffle(TRAIN_BUF).batch(BATCH_SIZE)"
   ]
  },
  {
   "cell_type": "code",
   "execution_count": 10,
   "metadata": {},
   "outputs": [],
   "source": [
    "class VAESprite(tf.keras.Model):\n",
    "    \"\"\"Same Architecture\"\"\"\n",
    "    def __init__(self, latent_dim, num_object):\n",
    "        super().__init__()\n",
    "        self.latent_dim = latent_dim\n",
    "        self.num_object = num_object\n",
    "        \n",
    "        self.encoder1 = tf.keras.Sequential([\n",
    "            tf.keras.layers.InputLayer(input_shape=(64, 64, 1)),\n",
    "            tf.keras.layers.Conv2D(filters=32, kernel_size=4, strides=(2, 2), activation=tf.nn.elu),\n",
    "            tf.keras.layers.Conv2D(filters=32, kernel_size=4, strides=(2, 2), activation=tf.nn.elu),\n",
    "        ])\n",
    "        \n",
    "        self.encoder2 = tf.keras.Sequential([       \n",
    "            tf.keras.layers.Conv2D(filters=64, kernel_size=4, strides=(2, 2), activation=tf.nn.elu),\n",
    "            tf.keras.layers.Conv2D(filters=24, kernel_size=2, strides=(1, 1), activation=tf.nn.elu),\n",
    "        ])\n",
    "        \n",
    "        self.decoder = tf.keras.Sequential([\n",
    "            tf.keras.layers.InputLayer(input_shape=(latent_dim,)),\n",
    "            tf.keras.layers.Dense(units=2*2*64, activation=tf.nn.relu),\n",
    "            tf.keras.layers.Reshape(target_shape=(2, 2, 64)),\n",
    "            tf.keras.layers.Conv2DTranspose(filters=64, kernel_size=4, strides=(2, 2), padding=\"SAME\", activation=tf.nn.elu),\n",
    "            tf.keras.layers.Conv2DTranspose(filters=64, kernel_size=4, strides=(2, 2), padding=\"SAME\", activation=tf.nn.elu),\n",
    "            tf.keras.layers.Conv2DTranspose(filters=32, kernel_size=4, strides=(4, 4), padding=\"SAME\", activation=tf.nn.elu),\n",
    "            tf.keras.layers.Conv2DTranspose(filters=32, kernel_size=2, strides=(2, 2), padding=\"SAME\", activation=tf.nn.elu),\n",
    "            tf.keras.layers.Conv2DTranspose(filters=1, kernel_size=1, strides=(1, 1), padding=\"SAME\"),\n",
    "        ])\n",
    "    \n",
    "    def call(self, img, is_sigmoid=False):\n",
    "        \"\"\"Reuse the code from the Google Example\"\"\"\n",
    "        encoder1 = self.encoder1(img)\n",
    "        \n",
    "        # Adding x, y coordinate\n",
    "        x = tf.convert_to_tensor([-7, -6, -5, -4, -3, -2, -1, 0, 1, 2, 3, 4, 5, 6])/7\n",
    "        y = tf.convert_to_tensor([-7, -6, -5, -4, -3, -2, -1, 0, 1, 2, 3, 4, 5, 6])/7\n",
    "        \n",
    "        X, Y = tf.meshgrid(x, y)\n",
    "        X, Y = tf.expand_dims(tf.cast(X, tf.float32), -1), tf.expand_dims(tf.cast(Y, tf.float32), -1)\n",
    "        X, Y = tf.expand_dims(tf.cast(X, tf.float32), 0), tf.expand_dims(tf.cast(Y, tf.float32), 0)\n",
    "        \n",
    "        X, Y = tf.tile(X, [encoder1.shape[0], 1, 1, 1]), tf.tile(X, [encoder1.shape[0], 1, 1, 1])\n",
    "        \n",
    "        encoder_pos = tf.concat([encoder1, X, Y], -1)\n",
    "        encoder_final = self.encoder2(encoder_pos)\n",
    "        \n",
    "        encoder_flatten = tf.reshape(encoder_final, (tf.shape(encoder_final)[0], \n",
    "                                                    -1, tf.shape(encoder_final)[-1]))\n",
    "        \n",
    "        mean, log_var = tf.split(encoder_flatten, num_or_size_splits=2, axis=-1)\n",
    "        \n",
    "        # Getting Analytic-KL\n",
    "        kl = 0.5 * tf.reduce_sum(tf.exp(log_var) + mean**2 - 1. - log_var, axis=[-1])\n",
    "        total_kl_value, total_kl_index = tf.math.top_k(kl, k=self.num_object)\n",
    "        \n",
    "        # Getting top 2\n",
    "        top_latent_mean = tf.batch_gather(mean, total_kl_index)\n",
    "        top_latent_log_var = tf.batch_gather(log_var, total_kl_index)\n",
    "        \n",
    "        # Getting latents for each objects \n",
    "        normal = tf.random_normal(shape=top_latent_mean.shape)\n",
    "        each_latent = normal * tf.exp(top_latent_log_var * .5) + top_latent_mean\n",
    "        \n",
    "        # Should I do this ? \n",
    "        latents = tf.reshape(each_latent, (-1, self.latent_dim))\n",
    "        decoded = self.decoder(latents)\n",
    "        \n",
    "        imgs = tf.reshape(decoded, (-1, self.num_object, decoded.shape[1], \n",
    "                                       decoded.shape[2], decoded.shape[3]))\n",
    "        \n",
    "        # Add all images \n",
    "        final_images = tf.reduce_sum(imgs, axis=1)\n",
    "        return each_latent, final_images, top_latent_mean, top_latent_log_var, total_kl_index"
   ]
  },
  {
   "cell_type": "code",
   "execution_count": 11,
   "metadata": {},
   "outputs": [],
   "source": [
    "latent_size = 12\n",
    "object_number = 2\n",
    "\n",
    "learning_rate = 1e-3\n",
    "\n",
    "def get_learning_rate():\n",
    "    global learning_rate\n",
    "    learning_rate *= 0.9999984649444495\n",
    "    return learning_rate"
   ]
  },
  {
   "cell_type": "code",
   "execution_count": 12,
   "metadata": {},
   "outputs": [],
   "source": [
    "vae = VAESprite(latent_size, object_number)\n",
    "optimizer = tf.train.AdamOptimizer(learning_rate=get_learning_rate)\n",
    "\n",
    "global_step = tf.train.get_or_create_global_step()\n",
    "summary_writer = tf.contrib.summary.create_file_writer(f\"tmp/{experiment_name}\")\n",
    "\n",
    "saver = tf.train.Checkpoint(optimizer=optimizer,\n",
    "                            model=vae,\n",
    "                            optimizer_step=tf.train.get_or_create_global_step())\n",
    "\n",
    "save_path = f\"save/{experiment_name}\"\n",
    "if not os.path.exists(save_path):\n",
    "    os.mkdir(save_path)"
   ]
  },
  {
   "cell_type": "code",
   "execution_count": 13,
   "metadata": {
    "scrolled": true
   },
   "outputs": [
    {
     "name": "stdout",
     "output_type": "stream",
     "text": [
      "At epoch 0\n",
      "tf.Tensor(2839.8462, shape=(), dtype=float32)\n",
      "tf.Tensor(815.30505, shape=(), dtype=float32)\n",
      "tf.Tensor(718.5691, shape=(), dtype=float32)\n",
      "tf.Tensor(645.3423, shape=(), dtype=float32)\n",
      "tf.Tensor(633.1487, shape=(), dtype=float32)\n",
      "tf.Tensor(593.4791, shape=(), dtype=float32)\n",
      "tf.Tensor(584.58093, shape=(), dtype=float32)\n",
      "tf.Tensor(575.48987, shape=(), dtype=float32)\n",
      "tf.Tensor(546.7737, shape=(), dtype=float32)\n",
      "tf.Tensor(538.746, shape=(), dtype=float32)\n",
      "---------\n",
      "At epoch 1\n",
      "tf.Tensor(518.69476, shape=(), dtype=float32)\n",
      "tf.Tensor(494.92407, shape=(), dtype=float32)\n",
      "tf.Tensor(530.2121, shape=(), dtype=float32)\n",
      "tf.Tensor(488.8722, shape=(), dtype=float32)\n",
      "tf.Tensor(492.69318, shape=(), dtype=float32)\n",
      "tf.Tensor(496.4075, shape=(), dtype=float32)\n",
      "tf.Tensor(463.3467, shape=(), dtype=float32)\n",
      "tf.Tensor(481.63046, shape=(), dtype=float32)\n",
      "tf.Tensor(485.11987, shape=(), dtype=float32)\n",
      "tf.Tensor(473.81015, shape=(), dtype=float32)\n",
      "---------\n",
      "At epoch 2\n",
      "tf.Tensor(451.12878, shape=(), dtype=float32)\n",
      "tf.Tensor(496.0431, shape=(), dtype=float32)\n",
      "tf.Tensor(424.86603, shape=(), dtype=float32)\n",
      "tf.Tensor(445.4547, shape=(), dtype=float32)\n",
      "tf.Tensor(437.5473, shape=(), dtype=float32)\n",
      "tf.Tensor(429.98828, shape=(), dtype=float32)\n",
      "tf.Tensor(435.82184, shape=(), dtype=float32)\n",
      "tf.Tensor(412.28864, shape=(), dtype=float32)\n",
      "tf.Tensor(422.35062, shape=(), dtype=float32)\n",
      "tf.Tensor(430.10757, shape=(), dtype=float32)\n",
      "---------\n",
      "At epoch 3\n",
      "tf.Tensor(409.59656, shape=(), dtype=float32)\n",
      "tf.Tensor(403.32315, shape=(), dtype=float32)\n",
      "tf.Tensor(380.57278, shape=(), dtype=float32)\n",
      "tf.Tensor(412.04315, shape=(), dtype=float32)\n",
      "tf.Tensor(392.77872, shape=(), dtype=float32)\n",
      "tf.Tensor(394.57797, shape=(), dtype=float32)\n",
      "tf.Tensor(381.66824, shape=(), dtype=float32)\n",
      "tf.Tensor(385.48044, shape=(), dtype=float32)\n",
      "tf.Tensor(388.74915, shape=(), dtype=float32)\n",
      "tf.Tensor(390.1057, shape=(), dtype=float32)\n",
      "---------\n",
      "At epoch 4\n",
      "tf.Tensor(374.42825, shape=(), dtype=float32)\n",
      "tf.Tensor(363.07574, shape=(), dtype=float32)\n",
      "tf.Tensor(394.27066, shape=(), dtype=float32)\n",
      "tf.Tensor(359.9625, shape=(), dtype=float32)\n",
      "tf.Tensor(354.53122, shape=(), dtype=float32)\n",
      "tf.Tensor(355.9391, shape=(), dtype=float32)\n",
      "tf.Tensor(364.15872, shape=(), dtype=float32)\n",
      "tf.Tensor(367.87775, shape=(), dtype=float32)\n",
      "tf.Tensor(375.63254, shape=(), dtype=float32)\n",
      "tf.Tensor(374.22107, shape=(), dtype=float32)\n",
      "---------\n",
      "At epoch 5\n",
      "tf.Tensor(370.83585, shape=(), dtype=float32)\n",
      "tf.Tensor(366.7454, shape=(), dtype=float32)\n",
      "tf.Tensor(340.85495, shape=(), dtype=float32)\n",
      "tf.Tensor(335.92764, shape=(), dtype=float32)\n",
      "tf.Tensor(342.7104, shape=(), dtype=float32)\n",
      "tf.Tensor(356.06296, shape=(), dtype=float32)\n",
      "tf.Tensor(345.6367, shape=(), dtype=float32)\n",
      "tf.Tensor(359.70358, shape=(), dtype=float32)\n",
      "tf.Tensor(338.8795, shape=(), dtype=float32)\n",
      "tf.Tensor(347.68118, shape=(), dtype=float32)\n",
      "---------\n",
      "At epoch 6\n",
      "tf.Tensor(341.92856, shape=(), dtype=float32)\n",
      "tf.Tensor(343.0321, shape=(), dtype=float32)\n",
      "tf.Tensor(340.493, shape=(), dtype=float32)\n",
      "tf.Tensor(340.29126, shape=(), dtype=float32)\n",
      "tf.Tensor(332.03738, shape=(), dtype=float32)\n",
      "tf.Tensor(308.21396, shape=(), dtype=float32)\n",
      "tf.Tensor(313.14728, shape=(), dtype=float32)\n",
      "tf.Tensor(335.3346, shape=(), dtype=float32)\n",
      "tf.Tensor(337.11774, shape=(), dtype=float32)\n",
      "tf.Tensor(315.47247, shape=(), dtype=float32)\n",
      "---------\n",
      "At epoch 7\n",
      "tf.Tensor(306.16638, shape=(), dtype=float32)\n",
      "tf.Tensor(317.04993, shape=(), dtype=float32)\n",
      "tf.Tensor(303.55423, shape=(), dtype=float32)\n",
      "tf.Tensor(330.3134, shape=(), dtype=float32)\n",
      "tf.Tensor(330.75278, shape=(), dtype=float32)\n",
      "tf.Tensor(334.0766, shape=(), dtype=float32)\n",
      "tf.Tensor(323.49152, shape=(), dtype=float32)\n",
      "tf.Tensor(327.53546, shape=(), dtype=float32)\n",
      "tf.Tensor(317.65665, shape=(), dtype=float32)\n",
      "tf.Tensor(312.0619, shape=(), dtype=float32)\n",
      "---------\n",
      "At epoch 8\n",
      "tf.Tensor(306.88675, shape=(), dtype=float32)\n",
      "tf.Tensor(302.46606, shape=(), dtype=float32)\n",
      "tf.Tensor(295.4178, shape=(), dtype=float32)\n",
      "tf.Tensor(294.43228, shape=(), dtype=float32)\n",
      "tf.Tensor(305.8326, shape=(), dtype=float32)\n",
      "tf.Tensor(306.1194, shape=(), dtype=float32)\n",
      "tf.Tensor(306.67273, shape=(), dtype=float32)\n",
      "tf.Tensor(316.818, shape=(), dtype=float32)\n",
      "tf.Tensor(310.22855, shape=(), dtype=float32)\n",
      "tf.Tensor(288.82663, shape=(), dtype=float32)\n",
      "---------\n",
      "At epoch 9\n",
      "tf.Tensor(313.08655, shape=(), dtype=float32)\n",
      "tf.Tensor(296.86087, shape=(), dtype=float32)\n",
      "tf.Tensor(283.5663, shape=(), dtype=float32)\n",
      "tf.Tensor(306.53882, shape=(), dtype=float32)\n",
      "tf.Tensor(287.01306, shape=(), dtype=float32)\n",
      "tf.Tensor(297.6493, shape=(), dtype=float32)\n",
      "tf.Tensor(287.48474, shape=(), dtype=float32)\n",
      "tf.Tensor(297.26965, shape=(), dtype=float32)\n",
      "tf.Tensor(318.9251, shape=(), dtype=float32)\n",
      "tf.Tensor(312.95428, shape=(), dtype=float32)\n",
      "---------\n",
      "At epoch 10\n",
      "tf.Tensor(298.27747, shape=(), dtype=float32)\n",
      "tf.Tensor(293.12302, shape=(), dtype=float32)\n",
      "tf.Tensor(310.17184, shape=(), dtype=float32)\n",
      "tf.Tensor(290.86014, shape=(), dtype=float32)\n",
      "tf.Tensor(271.92297, shape=(), dtype=float32)\n",
      "tf.Tensor(300.0415, shape=(), dtype=float32)\n",
      "tf.Tensor(285.4344, shape=(), dtype=float32)\n",
      "tf.Tensor(285.9343, shape=(), dtype=float32)\n",
      "tf.Tensor(287.32977, shape=(), dtype=float32)\n",
      "tf.Tensor(305.16656, shape=(), dtype=float32)\n",
      "---------\n",
      "At epoch 11\n",
      "tf.Tensor(278.12576, shape=(), dtype=float32)\n",
      "tf.Tensor(288.42688, shape=(), dtype=float32)\n",
      "tf.Tensor(301.7671, shape=(), dtype=float32)\n",
      "tf.Tensor(284.91736, shape=(), dtype=float32)\n",
      "tf.Tensor(290.0949, shape=(), dtype=float32)\n",
      "tf.Tensor(294.7903, shape=(), dtype=float32)\n",
      "tf.Tensor(283.5563, shape=(), dtype=float32)\n",
      "tf.Tensor(273.4578, shape=(), dtype=float32)\n",
      "tf.Tensor(268.09262, shape=(), dtype=float32)\n",
      "tf.Tensor(277.2389, shape=(), dtype=float32)\n",
      "---------\n",
      "At epoch 12\n",
      "tf.Tensor(278.2975, shape=(), dtype=float32)\n",
      "tf.Tensor(273.78586, shape=(), dtype=float32)\n",
      "tf.Tensor(281.104, shape=(), dtype=float32)\n",
      "tf.Tensor(293.53214, shape=(), dtype=float32)\n",
      "tf.Tensor(287.25073, shape=(), dtype=float32)\n",
      "tf.Tensor(292.32602, shape=(), dtype=float32)\n",
      "tf.Tensor(272.2847, shape=(), dtype=float32)\n",
      "tf.Tensor(280.234, shape=(), dtype=float32)\n",
      "tf.Tensor(271.48853, shape=(), dtype=float32)\n",
      "tf.Tensor(276.97522, shape=(), dtype=float32)\n",
      "---------\n",
      "At epoch 13\n",
      "tf.Tensor(292.14603, shape=(), dtype=float32)\n",
      "tf.Tensor(272.09296, shape=(), dtype=float32)\n",
      "tf.Tensor(265.16385, shape=(), dtype=float32)\n",
      "tf.Tensor(294.79617, shape=(), dtype=float32)\n",
      "tf.Tensor(282.25385, shape=(), dtype=float32)\n",
      "tf.Tensor(263.2422, shape=(), dtype=float32)\n",
      "tf.Tensor(274.85876, shape=(), dtype=float32)\n",
      "tf.Tensor(294.71014, shape=(), dtype=float32)\n",
      "tf.Tensor(281.2538, shape=(), dtype=float32)\n",
      "tf.Tensor(262.35718, shape=(), dtype=float32)\n",
      "---------\n",
      "At epoch 14\n",
      "tf.Tensor(258.25916, shape=(), dtype=float32)\n",
      "tf.Tensor(273.04257, shape=(), dtype=float32)\n",
      "tf.Tensor(270.9904, shape=(), dtype=float32)\n",
      "tf.Tensor(277.3843, shape=(), dtype=float32)\n",
      "tf.Tensor(253.52153, shape=(), dtype=float32)\n",
      "tf.Tensor(262.50986, shape=(), dtype=float32)\n",
      "tf.Tensor(289.40643, shape=(), dtype=float32)\n",
      "tf.Tensor(243.90381, shape=(), dtype=float32)\n",
      "tf.Tensor(270.65964, shape=(), dtype=float32)\n",
      "tf.Tensor(254.37271, shape=(), dtype=float32)\n",
      "---------\n",
      "At epoch 15\n",
      "tf.Tensor(284.36234, shape=(), dtype=float32)\n",
      "tf.Tensor(277.31784, shape=(), dtype=float32)\n",
      "tf.Tensor(279.30472, shape=(), dtype=float32)\n",
      "tf.Tensor(252.53682, shape=(), dtype=float32)\n",
      "tf.Tensor(259.0558, shape=(), dtype=float32)\n",
      "tf.Tensor(273.7126, shape=(), dtype=float32)\n",
      "tf.Tensor(253.72736, shape=(), dtype=float32)\n",
      "tf.Tensor(270.75214, shape=(), dtype=float32)\n",
      "tf.Tensor(266.83643, shape=(), dtype=float32)\n",
      "tf.Tensor(263.24075, shape=(), dtype=float32)\n",
      "---------\n",
      "At epoch 16\n",
      "tf.Tensor(273.7665, shape=(), dtype=float32)\n",
      "tf.Tensor(284.0697, shape=(), dtype=float32)\n",
      "tf.Tensor(266.46786, shape=(), dtype=float32)\n",
      "tf.Tensor(265.2972, shape=(), dtype=float32)\n",
      "tf.Tensor(266.92148, shape=(), dtype=float32)\n",
      "tf.Tensor(255.80923, shape=(), dtype=float32)\n",
      "tf.Tensor(260.8925, shape=(), dtype=float32)\n",
      "tf.Tensor(262.208, shape=(), dtype=float32)\n",
      "tf.Tensor(254.82918, shape=(), dtype=float32)\n",
      "tf.Tensor(262.98206, shape=(), dtype=float32)\n",
      "---------\n",
      "At epoch 17\n",
      "tf.Tensor(272.6079, shape=(), dtype=float32)\n"
     ]
    },
    {
     "ename": "KeyboardInterrupt",
     "evalue": "",
     "output_type": "error",
     "traceback": [
      "\u001b[0;31m---------------------------------------------------------------------------\u001b[0m",
      "\u001b[0;31mKeyboardInterrupt\u001b[0m                         Traceback (most recent call last)",
      "\u001b[0;32m<ipython-input-13-0879c06fae84>\u001b[0m in \u001b[0;36m<module>\u001b[0;34m\u001b[0m\n\u001b[1;32m     24\u001b[0m \u001b[0;34m\u001b[0m\u001b[0m\n\u001b[1;32m     25\u001b[0m \u001b[0;34m\u001b[0m\u001b[0m\n\u001b[0;32m---> 26\u001b[0;31m         \u001b[0mgrad\u001b[0m \u001b[0;34m=\u001b[0m \u001b[0mtape\u001b[0m\u001b[0;34m.\u001b[0m\u001b[0mgradient\u001b[0m\u001b[0;34m(\u001b[0m\u001b[0mloss\u001b[0m\u001b[0;34m,\u001b[0m \u001b[0mvae\u001b[0m\u001b[0;34m.\u001b[0m\u001b[0mvariables\u001b[0m\u001b[0;34m)\u001b[0m\u001b[0;34m\u001b[0m\u001b[0m\n\u001b[0m\u001b[1;32m     27\u001b[0m         \u001b[0mglobal_step\u001b[0m\u001b[0;34m.\u001b[0m\u001b[0massign_add\u001b[0m\u001b[0;34m(\u001b[0m\u001b[0;36m1\u001b[0m\u001b[0;34m)\u001b[0m\u001b[0;34m\u001b[0m\u001b[0m\n\u001b[1;32m     28\u001b[0m         \u001b[0moptimizer\u001b[0m\u001b[0;34m.\u001b[0m\u001b[0mapply_gradients\u001b[0m\u001b[0;34m(\u001b[0m\u001b[0mzip\u001b[0m\u001b[0;34m(\u001b[0m\u001b[0mgrad\u001b[0m\u001b[0;34m,\u001b[0m \u001b[0mvae\u001b[0m\u001b[0;34m.\u001b[0m\u001b[0mvariables\u001b[0m\u001b[0;34m)\u001b[0m\u001b[0;34m)\u001b[0m\u001b[0;34m\u001b[0m\u001b[0m\n",
      "\u001b[0;32m~/anaconda3/lib/python3.6/site-packages/tensorflow/python/eager/backprop.py\u001b[0m in \u001b[0;36mgradient\u001b[0;34m(self, target, sources, output_gradients)\u001b[0m\n\u001b[1;32m    899\u001b[0m         \u001b[0mnest\u001b[0m\u001b[0;34m.\u001b[0m\u001b[0mflatten\u001b[0m\u001b[0;34m(\u001b[0m\u001b[0mtarget\u001b[0m\u001b[0;34m)\u001b[0m\u001b[0;34m,\u001b[0m\u001b[0;34m\u001b[0m\u001b[0m\n\u001b[1;32m    900\u001b[0m         \u001b[0mflat_sources\u001b[0m\u001b[0;34m,\u001b[0m\u001b[0;34m\u001b[0m\u001b[0m\n\u001b[0;32m--> 901\u001b[0;31m         output_gradients=output_gradients)\n\u001b[0m\u001b[1;32m    902\u001b[0m \u001b[0;34m\u001b[0m\u001b[0m\n\u001b[1;32m    903\u001b[0m     \u001b[0;32mif\u001b[0m \u001b[0;32mnot\u001b[0m \u001b[0mself\u001b[0m\u001b[0;34m.\u001b[0m\u001b[0m_persistent\u001b[0m\u001b[0;34m:\u001b[0m\u001b[0;34m\u001b[0m\u001b[0m\n",
      "\u001b[0;32m~/anaconda3/lib/python3.6/site-packages/tensorflow/python/eager/imperative_grad.py\u001b[0m in \u001b[0;36mimperative_grad\u001b[0;34m(tape, target, sources, output_gradients)\u001b[0m\n\u001b[1;32m     62\u001b[0m       \u001b[0mtarget\u001b[0m\u001b[0;34m,\u001b[0m\u001b[0;34m\u001b[0m\u001b[0m\n\u001b[1;32m     63\u001b[0m       \u001b[0msources\u001b[0m\u001b[0;34m,\u001b[0m\u001b[0;34m\u001b[0m\u001b[0m\n\u001b[0;32m---> 64\u001b[0;31m       output_gradients)\n\u001b[0m",
      "\u001b[0;32m~/anaconda3/lib/python3.6/site-packages/tensorflow/python/eager/backprop.py\u001b[0m in \u001b[0;36m_gradient_function\u001b[0;34m(op_name, attr_tuple, num_inputs, inputs, outputs, out_grads)\u001b[0m\n\u001b[1;32m    115\u001b[0m     \u001b[0;32mreturn\u001b[0m \u001b[0;34m[\u001b[0m\u001b[0;32mNone\u001b[0m\u001b[0;34m]\u001b[0m \u001b[0;34m*\u001b[0m \u001b[0mnum_inputs\u001b[0m\u001b[0;34m\u001b[0m\u001b[0m\n\u001b[1;32m    116\u001b[0m \u001b[0;34m\u001b[0m\u001b[0m\n\u001b[0;32m--> 117\u001b[0;31m   \u001b[0;32mreturn\u001b[0m \u001b[0mgrad_fn\u001b[0m\u001b[0;34m(\u001b[0m\u001b[0mmock_op\u001b[0m\u001b[0;34m,\u001b[0m \u001b[0;34m*\u001b[0m\u001b[0mout_grads\u001b[0m\u001b[0;34m)\u001b[0m\u001b[0;34m\u001b[0m\u001b[0m\n\u001b[0m\u001b[1;32m    118\u001b[0m \u001b[0;34m\u001b[0m\u001b[0m\n\u001b[1;32m    119\u001b[0m \u001b[0;34m\u001b[0m\u001b[0m\n",
      "\u001b[0;32m~/anaconda3/lib/python3.6/site-packages/tensorflow/python/ops/nn_grad.py\u001b[0m in \u001b[0;36m_Conv2DBackpropInputGrad\u001b[0;34m(op, grad)\u001b[0m\n\u001b[1;32m     51\u001b[0m           \u001b[0mpadding\u001b[0m\u001b[0;34m=\u001b[0m\u001b[0mop\u001b[0m\u001b[0;34m.\u001b[0m\u001b[0mget_attr\u001b[0m\u001b[0;34m(\u001b[0m\u001b[0;34m\"padding\"\u001b[0m\u001b[0;34m)\u001b[0m\u001b[0;34m,\u001b[0m\u001b[0;34m\u001b[0m\u001b[0m\n\u001b[1;32m     52\u001b[0m           \u001b[0muse_cudnn_on_gpu\u001b[0m\u001b[0;34m=\u001b[0m\u001b[0mop\u001b[0m\u001b[0;34m.\u001b[0m\u001b[0mget_attr\u001b[0m\u001b[0;34m(\u001b[0m\u001b[0;34m\"use_cudnn_on_gpu\"\u001b[0m\u001b[0;34m)\u001b[0m\u001b[0;34m,\u001b[0m\u001b[0;34m\u001b[0m\u001b[0m\n\u001b[0;32m---> 53\u001b[0;31m           data_format=op.get_attr(\"data_format\")),\n\u001b[0m\u001b[1;32m     54\u001b[0m       nn_ops.conv2d(\n\u001b[1;32m     55\u001b[0m           \u001b[0mgrad\u001b[0m\u001b[0;34m,\u001b[0m\u001b[0;34m\u001b[0m\u001b[0m\n",
      "\u001b[0;32m~/anaconda3/lib/python3.6/site-packages/tensorflow/python/ops/gen_nn_ops.py\u001b[0m in \u001b[0;36mconv2d_backprop_filter\u001b[0;34m(input, filter_sizes, out_backprop, strides, padding, use_cudnn_on_gpu, data_format, dilations, name)\u001b[0m\n\u001b[1;32m   1110\u001b[0m         \u001b[0mfilter_sizes\u001b[0m\u001b[0;34m,\u001b[0m \u001b[0mout_backprop\u001b[0m\u001b[0;34m,\u001b[0m \u001b[0;34m\"strides\"\u001b[0m\u001b[0;34m,\u001b[0m \u001b[0mstrides\u001b[0m\u001b[0;34m,\u001b[0m \u001b[0;34m\"use_cudnn_on_gpu\"\u001b[0m\u001b[0;34m,\u001b[0m\u001b[0;34m\u001b[0m\u001b[0m\n\u001b[1;32m   1111\u001b[0m         \u001b[0muse_cudnn_on_gpu\u001b[0m\u001b[0;34m,\u001b[0m \u001b[0;34m\"padding\"\u001b[0m\u001b[0;34m,\u001b[0m \u001b[0mpadding\u001b[0m\u001b[0;34m,\u001b[0m \u001b[0;34m\"data_format\"\u001b[0m\u001b[0;34m,\u001b[0m \u001b[0mdata_format\u001b[0m\u001b[0;34m,\u001b[0m\u001b[0;34m\u001b[0m\u001b[0m\n\u001b[0;32m-> 1112\u001b[0;31m         \"dilations\", dilations)\n\u001b[0m\u001b[1;32m   1113\u001b[0m       \u001b[0;32mreturn\u001b[0m \u001b[0m_result\u001b[0m\u001b[0;34m\u001b[0m\u001b[0m\n\u001b[1;32m   1114\u001b[0m     \u001b[0;32mexcept\u001b[0m \u001b[0m_core\u001b[0m\u001b[0;34m.\u001b[0m\u001b[0m_FallbackException\u001b[0m\u001b[0;34m:\u001b[0m\u001b[0;34m\u001b[0m\u001b[0m\n",
      "\u001b[0;31mKeyboardInterrupt\u001b[0m: "
     ]
    }
   ],
   "source": [
    "for e in range(300):\n",
    "    print(f\"At epoch {e}\")\n",
    "    for i, img in enumerate(train_dataset):\n",
    "        with tf.GradientTape() as tape:\n",
    "            tape.watch(vae.variables)\n",
    "\n",
    "            latent, out, mean, log_var, kl_map = vae(img)\n",
    "            flat_mean = tf.reshape(mean, (-1, latent_size))\n",
    "            flat_log_var = tf.reshape(log_var, (-1, latent_size))\n",
    "\n",
    "            cross_ent = tf.nn.sigmoid_cross_entropy_with_logits(logits=out, labels=img)\n",
    "            logpx_z = -tf.reduce_sum(cross_ent, axis=[1, 2, 3])\n",
    "            kl_loss = 0.5 * tf.reduce_sum(tf.exp(flat_log_var) + flat_mean**2 - 1. - flat_log_var, \n",
    "                                          axis=[1])\n",
    "            kl_loss = tf.reduce_sum(tf.reshape(kl_loss, (-1, object_number)), axis=1)\n",
    "            loss = -tf.reduce_mean(logpx_z - kl_loss)\n",
    "            \n",
    "            if i % 100 == 0:\n",
    "                print(f\"Loss -- {loss} Current Learning Rate {learning_rate}\")\n",
    "                with summary_writer.as_default(), tf.contrib.summary.always_record_summaries():\n",
    "                    tf.contrib.summary.scalar('Loss', loss)\n",
    "                    tf.contrib.summary.image('Before', img)\n",
    "                    tf.contrib.summary.image('Sample', tf.nn.sigmoid(out))\n",
    "                    \n",
    "        \n",
    "        grad = tape.gradient(loss, vae.variables)\n",
    "        global_step.assign_add(1)\n",
    "        optimizer.apply_gradients(zip(grad, vae.variables))\n",
    "        \n",
    "    print(f\"---------\")\n",
    "    saver.save(f\"save/{experiment_name}/{experiment_name}.ckpt\")"
   ]
  },
  {
   "cell_type": "code",
   "execution_count": 14,
   "metadata": {},
   "outputs": [
    {
     "data": {
      "image/png": "[encoded data removed]",
      "text/plain": [
       "<matplotlib.figure.Figure at 0x1a8b95ed30>"
      ]
     },
     "metadata": {
      "needs_background": "light"
     },
     "output_type": "display_data"
    }
   ],
   "source": [
    "show_images_grid(tf.squeeze(img).numpy(), 3)"
   ]
  },
  {
   "cell_type": "code",
   "execution_count": 15,
   "metadata": {},
   "outputs": [
    {
     "data": {
      "image/png": "[encoded data removed]",
      "text/plain": [
       "<matplotlib.figure.Figure at 0x1a2d66d9b0>"
      ]
     },
     "metadata": {
      "needs_background": "light"
     },
     "output_type": "display_data"
    }
   ],
   "source": [
    "show_images_grid(tf.squeeze(tf.nn.sigmoid(out)).numpy(), 3)"
   ]
  },
  {
   "cell_type": "code",
   "execution_count": 16,
   "metadata": {},
   "outputs": [],
   "source": [
    "def get_kl_attention_map(kl_index):\n",
    "    batch_size = kl_index.shape[0]\n",
    "    blank_map = np.zeros((batch_size, 25))\n",
    "    for i in range(batch_size):\n",
    "        blank_map[i][kl_index[i]] = 1\n",
    "    return blank_map.reshape(batch_size, 5, 5)"
   ]
  },
  {
   "cell_type": "code",
   "execution_count": 17,
   "metadata": {},
   "outputs": [
    {
     "data": {
      "image/png": "[encoded data removed]",
      "text/plain": [
       "<matplotlib.figure.Figure at 0x1a2cddfe80>"
      ]
     },
     "metadata": {
      "needs_background": "light"
     },
     "output_type": "display_data"
    }
   ],
   "source": [
    "show_images_grid(get_kl_attention_map(kl_map), 3)"
   ]
  },
  {
   "cell_type": "code",
   "execution_count": null,
   "metadata": {},
   "outputs": [],
   "source": []
  },
  {
   "cell_type": "code",
   "execution_count": null,
   "metadata": {},
   "outputs": [],
   "source": []
  }
 ],
 "metadata": {
  "kernelspec": {
   "display_name": "Python 3",
   "language": "python",
   "name": "python3"
  },
  "language_info": {
   "codemirror_mode": {
    "name": "ipython",
    "version": 3
   },
   "file_extension": ".py",
   "mimetype": "text/x-python",
   "name": "python",
   "nbconvert_exporter": "python",
   "pygments_lexer": "ipython3",
   "version": "3.6.6"
  }
 },
 "nbformat": 4,
 "nbformat_minor": 2
}
