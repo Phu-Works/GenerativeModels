{
 "cells": [
  {
   "cell_type": "code",
   "execution_count": 1,
   "metadata": {},
   "outputs": [],
   "source": [
    "# !git clone https://github.com/deepmind/dsprites-dataset.git"
   ]
  },
  {
   "cell_type": "code",
   "execution_count": 2,
   "metadata": {},
   "outputs": [],
   "source": [
    "import tensorflow as tf \n",
    "tf.enable_eager_execution()"
   ]
  },
  {
   "cell_type": "code",
   "execution_count": 3,
   "metadata": {},
   "outputs": [],
   "source": [
    "import numpy as np\n",
    "import matplotlib.pyplot as plt\n",
    "import cv2"
   ]
  },
  {
   "cell_type": "code",
   "execution_count": 4,
   "metadata": {},
   "outputs": [
    {
     "name": "stdout",
     "output_type": "stream",
     "text": [
      "Metadata: \n",
      " {b'date': b'April 2017', b'description': b'Disentanglement test Sprites dataset.Procedurally generated 2D shapes, from 6 disentangled latent factors.This dataset uses 6 latents, controlling the color, shape, scale, rotation and position of a sprite. All possible variations of the latents are present. Ordering along dimension 1 is fixed and can be mapped back to the exact latent values that generated that image.We made sure that the pixel outputs are different. No noise added.', b'version': 1, b'latents_names': (b'color', b'shape', b'scale', b'orientation', b'posX', b'posY'), b'latents_possible_values': {b'orientation': array([0.        , 0.16110732, 0.32221463, 0.48332195, 0.64442926,\n",
      "       0.80553658, 0.96664389, 1.12775121, 1.28885852, 1.44996584,\n",
      "       1.61107316, 1.77218047, 1.93328779, 2.0943951 , 2.25550242,\n",
      "       2.41660973, 2.57771705, 2.73882436, 2.89993168, 3.061039  ,\n",
      "       3.22214631, 3.38325363, 3.54436094, 3.70546826, 3.86657557,\n",
      "       4.02768289, 4.1887902 , 4.34989752, 4.51100484, 4.67211215,\n",
      "       4.83321947, 4.99432678, 5.1554341 , 5.31654141, 5.47764873,\n",
      "       5.63875604, 5.79986336, 5.96097068, 6.12207799, 6.28318531]), b'posX': array([0.        , 0.03225806, 0.06451613, 0.09677419, 0.12903226,\n",
      "       0.16129032, 0.19354839, 0.22580645, 0.25806452, 0.29032258,\n",
      "       0.32258065, 0.35483871, 0.38709677, 0.41935484, 0.4516129 ,\n",
      "       0.48387097, 0.51612903, 0.5483871 , 0.58064516, 0.61290323,\n",
      "       0.64516129, 0.67741935, 0.70967742, 0.74193548, 0.77419355,\n",
      "       0.80645161, 0.83870968, 0.87096774, 0.90322581, 0.93548387,\n",
      "       0.96774194, 1.        ]), b'posY': array([0.        , 0.03225806, 0.06451613, 0.09677419, 0.12903226,\n",
      "       0.16129032, 0.19354839, 0.22580645, 0.25806452, 0.29032258,\n",
      "       0.32258065, 0.35483871, 0.38709677, 0.41935484, 0.4516129 ,\n",
      "       0.48387097, 0.51612903, 0.5483871 , 0.58064516, 0.61290323,\n",
      "       0.64516129, 0.67741935, 0.70967742, 0.74193548, 0.77419355,\n",
      "       0.80645161, 0.83870968, 0.87096774, 0.90322581, 0.93548387,\n",
      "       0.96774194, 1.        ]), b'scale': array([0.5, 0.6, 0.7, 0.8, 0.9, 1. ]), b'shape': array([1., 2., 3.]), b'color': array([1.])}, b'latents_sizes': array([ 1,  3,  6, 40, 32, 32]), b'author': b'lmatthey@google.com', b'title': b'dSprites dataset'}\n"
     ]
    }
   ],
   "source": [
    "## Code from Deepmind's Github\n",
    "load_data = np.load(\"dsprites-dataset/dsprites_ndarray_co1sh3sc6or40x32y32_64x64.npz\", encoding='bytes')\n",
    "imgs = load_data['imgs']\n",
    "latents_values = load_data['latents_values']\n",
    "latents_classes = load_data['latents_classes']\n",
    "metadata = load_data['metadata'][()]\n",
    "\n",
    "print('Metadata: \\n', metadata)"
   ]
  },
  {
   "cell_type": "code",
   "execution_count": 5,
   "metadata": {},
   "outputs": [],
   "source": [
    "latents_sizes = metadata[b'latents_sizes']\n",
    "latents_bases = np.concatenate((latents_sizes[::-1].cumprod()[::-1][1:],\n",
    "                                np.array([1,])))\n",
    "\n",
    "def latent_to_index(latents):\n",
    "    return np.dot(latents, latents_bases).astype(int)\n",
    "\n",
    "def sample_latent(size=1):\n",
    "    samples = np.zeros((size, latents_sizes.size))\n",
    "    for lat_i, lat_size in enumerate(latents_sizes):\n",
    "        samples[:, lat_i] = np.random.randint(lat_size, size=size)\n",
    "\n",
    "    return samples\n",
    "\n",
    "def show_images_grid(imgs_, num_images=25):\n",
    "    ncols = int(np.ceil(num_images**0.5))\n",
    "    nrows = int(np.ceil(num_images / ncols))\n",
    "    _, axes = plt.subplots(ncols, nrows, figsize=(nrows * 3, ncols * 3))\n",
    "    axes = axes.flatten()\n",
    "\n",
    "    for ax_i, ax in enumerate(axes):\n",
    "        if ax_i < num_images:\n",
    "            ax.imshow(imgs_[ax_i], cmap='Greys_r',  interpolation='nearest')\n",
    "            ax.set_xticks([])\n",
    "            ax.set_yticks([])\n",
    "        else:\n",
    "            ax.axis('off')"
   ]
  },
  {
   "cell_type": "code",
   "execution_count": 6,
   "metadata": {},
   "outputs": [
    {
     "data": {
      "image/png": "[encoded data removed]",
      "text/plain": [
       "<matplotlib.figure.Figure at 0x18333aaef0>"
      ]
     },
     "metadata": {},
     "output_type": "display_data"
    }
   ],
   "source": [
    "latents_sampled = sample_latent(size=60000)\n",
    "\n",
    "latents_sampled[:, 1] = 1\n",
    "indices_sampled = latent_to_index(latents_sampled)\n",
    "imgs_sampled = imgs[indices_sampled]\n",
    "\n",
    "show_images_grid(imgs_sampled, 9)"
   ]
  },
  {
   "cell_type": "code",
   "execution_count": 7,
   "metadata": {},
   "outputs": [],
   "source": [
    "imgs_sampled = imgs_sampled.reshape(imgs_sampled.shape[0], 64, 64, 1).astype('float32')"
   ]
  },
  {
   "cell_type": "code",
   "execution_count": 8,
   "metadata": {},
   "outputs": [],
   "source": [
    "TRAIN_BUF = 60000\n",
    "BATCH_SIZE = 100\n",
    "\n",
    "TEST_BUF = 10000"
   ]
  },
  {
   "cell_type": "code",
   "execution_count": 9,
   "metadata": {},
   "outputs": [],
   "source": [
    "train_dataset = tf.data.Dataset.from_tensor_slices(imgs_sampled).shuffle(TRAIN_BUF).batch(BATCH_SIZE)"
   ]
  },
  {
   "cell_type": "code",
   "execution_count": 10,
   "metadata": {},
   "outputs": [],
   "source": [
    "class VAESprite(tf.keras.Model):\n",
    "    \"\"\"Same Architecture\"\"\"\n",
    "    def __init__(self, latent_dim):\n",
    "        super().__init__()\n",
    "        self.latent_dim = latent_dim\n",
    "        \n",
    "        self.encoder = tf.keras.Sequential([\n",
    "            tf.keras.layers.InputLayer(input_shape=(64, 64, 1)),\n",
    "            tf.keras.layers.Conv2D(filters=32, kernel_size=4, strides=(2, 2), activation=tf.nn.elu),\n",
    "            tf.keras.layers.Conv2D(filters=32, kernel_size=4, strides=(2, 2), activation=tf.nn.elu),\n",
    "            tf.keras.layers.Conv2D(filters=64, kernel_size=4, strides=(2, 2), activation=tf.nn.elu),\n",
    "            tf.keras.layers.Conv2D(filters=64, kernel_size=4, strides=(2, 2), activation=tf.nn.elu),\n",
    "            tf.keras.layers.Flatten(),\n",
    "            tf.keras.layers.Dense(latent_dim + latent_dim),\n",
    "        ])\n",
    "        \n",
    "        self.decoder = tf.keras.Sequential([\n",
    "            tf.keras.layers.InputLayer(input_shape=(latent_dim,)),\n",
    "            tf.keras.layers.Dense(units=2*2*64, activation=tf.nn.relu),\n",
    "            tf.keras.layers.Reshape(target_shape=(2, 2, 64)),\n",
    "            tf.keras.layers.Conv2DTranspose(filters=64, kernel_size=4, strides=(2, 2), padding=\"SAME\", activation=tf.nn.elu),\n",
    "            tf.keras.layers.Conv2DTranspose(filters=64, kernel_size=4, strides=(2, 2), padding=\"SAME\", activation=tf.nn.elu),\n",
    "            tf.keras.layers.Conv2DTranspose(filters=32, kernel_size=4, strides=(4, 4), padding=\"SAME\", activation=tf.nn.elu),\n",
    "            tf.keras.layers.Conv2DTranspose(filters=32, kernel_size=2, strides=(2, 2), padding=\"SAME\", activation=tf.nn.elu),\n",
    "            tf.keras.layers.Conv2DTranspose(filters=1, kernel_size=1, strides=(1, 1), padding=\"SAME\"),\n",
    "        ])\n",
    "        \n",
    "    def sample(self):\n",
    "        latent = tf.random_normal(shape=(1, self.latent_dim))\n",
    "        return latent, tf.nn.sigmoid(self.decoder(latent))\n",
    "    \n",
    "    def call(self, img, is_sigmoid=False):\n",
    "        \"\"\"Reuse the code from the Google Example\"\"\"\n",
    "        mean, log_var = tf.split(self.encoder(img), num_or_size_splits=2, axis=1)\n",
    "        \n",
    "        normal = tf.random_normal(shape=mean.shape)\n",
    "        latent = normal * tf.exp(log_var * .5) + mean\n",
    "        \n",
    "        out = self.decoder(latent)\n",
    "        if is_sigmoid:\n",
    "            out = tf.nn.sigmoid(out)\n",
    "        return latent, out, mean, log_var"
   ]
  },
  {
   "cell_type": "code",
   "execution_count": 11,
   "metadata": {},
   "outputs": [],
   "source": [
    "vae = VAESprite(10)"
   ]
  },
  {
   "cell_type": "code",
   "execution_count": 12,
   "metadata": {},
   "outputs": [
    {
     "name": "stdout",
     "output_type": "stream",
     "text": [
      "At epoch 0\n",
      "tf.Tensor(2838.9473, shape=(), dtype=float32)\n",
      "tf.Tensor(1448.8369, shape=(), dtype=float32)\n",
      "tf.Tensor(922.8295, shape=(), dtype=float32)\n",
      "tf.Tensor(765.25977, shape=(), dtype=float32)\n",
      "tf.Tensor(620.24194, shape=(), dtype=float32)\n",
      "tf.Tensor(430.37766, shape=(), dtype=float32)\n",
      "---------\n",
      "At epoch 1\n",
      "tf.Tensor(315.33658, shape=(), dtype=float32)\n",
      "tf.Tensor(294.3032, shape=(), dtype=float32)\n",
      "tf.Tensor(270.7376, shape=(), dtype=float32)\n",
      "tf.Tensor(250.1457, shape=(), dtype=float32)\n",
      "tf.Tensor(235.29295, shape=(), dtype=float32)\n",
      "tf.Tensor(224.75577, shape=(), dtype=float32)\n",
      "---------\n",
      "At epoch 2\n",
      "tf.Tensor(206.42929, shape=(), dtype=float32)\n",
      "tf.Tensor(197.17555, shape=(), dtype=float32)\n",
      "tf.Tensor(175.78023, shape=(), dtype=float32)\n",
      "tf.Tensor(178.58174, shape=(), dtype=float32)\n",
      "tf.Tensor(178.12177, shape=(), dtype=float32)\n",
      "tf.Tensor(171.56996, shape=(), dtype=float32)\n",
      "---------\n",
      "At epoch 3\n",
      "tf.Tensor(166.1064, shape=(), dtype=float32)\n",
      "tf.Tensor(163.14952, shape=(), dtype=float32)\n",
      "tf.Tensor(156.28209, shape=(), dtype=float32)\n",
      "tf.Tensor(150.5161, shape=(), dtype=float32)\n",
      "tf.Tensor(148.05734, shape=(), dtype=float32)\n",
      "tf.Tensor(144.54298, shape=(), dtype=float32)\n",
      "---------\n",
      "At epoch 4\n",
      "tf.Tensor(141.19353, shape=(), dtype=float32)\n",
      "tf.Tensor(129.95439, shape=(), dtype=float32)\n",
      "tf.Tensor(134.7641, shape=(), dtype=float32)\n",
      "tf.Tensor(134.7317, shape=(), dtype=float32)\n",
      "tf.Tensor(120.2231, shape=(), dtype=float32)\n",
      "tf.Tensor(127.14871, shape=(), dtype=float32)\n",
      "---------\n",
      "At epoch 5\n",
      "tf.Tensor(120.010605, shape=(), dtype=float32)\n",
      "tf.Tensor(127.4542, shape=(), dtype=float32)\n",
      "tf.Tensor(113.56434, shape=(), dtype=float32)\n",
      "tf.Tensor(115.18927, shape=(), dtype=float32)\n",
      "tf.Tensor(117.93383, shape=(), dtype=float32)\n",
      "tf.Tensor(110.67697, shape=(), dtype=float32)\n",
      "---------\n"
     ]
    }
   ],
   "source": [
    "optimizer = tf.train.AdamOptimizer(5e-5)\n",
    "\n",
    "for e in range(6):\n",
    "    print(f\"At epoch {e}\")\n",
    "    for i, img in enumerate(train_dataset):\n",
    "        with tf.GradientTape() as tape:\n",
    "            tape.watch(vae.variables)\n",
    "\n",
    "            latent, out, mean, log_var = vae(img)\n",
    "            \n",
    "            # Reconstruction loss ? \n",
    "            cross_ent = tf.nn.sigmoid_cross_entropy_with_logits(logits=out, labels=img)\n",
    "            logpx_z = -tf.reduce_sum(cross_ent, axis=[1, 2, 3])\n",
    "            \n",
    "            # KL Loss -- From https://wiseodd.github.io/techblog/2017/01/24/vae-pytorch/\n",
    "            kl_loss = 0.5 * tf.reduce_sum(tf.exp(log_var) + mean**2 - 1. - log_var, axis=[1])\n",
    "            \n",
    "            loss = -tf.reduce_mean(logpx_z - kl_loss)\n",
    "            if i % 100 == 0:\n",
    "                print(loss)\n",
    "\n",
    "        grad = tape.gradient(loss, vae.variables)\n",
    "        optimizer.apply_gradients(zip(grad, vae.variables))\n",
    "    print(f\"---------\")"
   ]
  },
  {
   "cell_type": "code",
   "execution_count": 13,
   "metadata": {},
   "outputs": [
    {
     "data": {
      "text/plain": [
       "<matplotlib.image.AxesImage at 0x11d96d5f8>"
      ]
     },
     "execution_count": 13,
     "metadata": {},
     "output_type": "execute_result"
    },
    {
     "data": {
      "image/png": "[encoded data removed]",
      "text/plain": [
       "<matplotlib.figure.Figure at 0x18ebd23400>"
      ]
     },
     "metadata": {
      "needs_background": "light"
     },
     "output_type": "display_data"
    }
   ],
   "source": [
    "latents_sampled = sample_latent(size=1)\n",
    "\n",
    "latents_sampled[:, 2] = 5\n",
    "indices_sampled = latent_to_index(latents_sampled)\n",
    "imgs_sampled = imgs[indices_sampled]\n",
    "\n",
    "test_img = imgs_sampled[0]\n",
    "plt.imshow(test_img, cmap='Greys_r',  interpolation='nearest')"
   ]
  },
  {
   "cell_type": "code",
   "execution_count": 14,
   "metadata": {},
   "outputs": [
    {
     "data": {
      "text/plain": [
       "<matplotlib.image.AxesImage at 0x18e7539f28>"
      ]
     },
     "execution_count": 14,
     "metadata": {},
     "output_type": "execute_result"
    },
    {
     "data": {
      "image/png": "[encoded data removed]",
      "text/plain": [
       "<matplotlib.figure.Figure at 0x18ebd23208>"
      ]
     },
     "metadata": {
      "needs_background": "light"
     },
     "output_type": "display_data"
    }
   ],
   "source": [
    "img_tensor = tf.convert_to_tensor(test_img, dtype=tf.float32)\n",
    "img_tensor = tf.expand_dims(img_tensor, axis=0)\n",
    "img_tensor = tf.expand_dims(img_tensor, axis=-1)\n",
    "\n",
    "latent, out, _, _ = vae(img_tensor)\n",
    "out = tf.squeeze(tf.nn.sigmoid(out))\n",
    "\n",
    "plt.imshow(out.numpy(), cmap='Greys_r',  interpolation='nearest')"
   ]
  },
  {
   "cell_type": "code",
   "execution_count": 15,
   "metadata": {},
   "outputs": [
    {
     "data": {
      "text/plain": [
       "<matplotlib.image.AxesImage at 0x11da451d0>"
      ]
     },
     "execution_count": 15,
     "metadata": {},
     "output_type": "execute_result"
    },
    {
     "data": {
      "image/png": "[encoded data removed]",
      "text/plain": [
       "<matplotlib.figure.Figure at 0x18ebd18b00>"
      ]
     },
     "metadata": {
      "needs_background": "light"
     },
     "output_type": "display_data"
    }
   ],
   "source": [
    "sampled_latent, img = vae.sample()\n",
    "img = tf.squeeze(img)\n",
    "\n",
    "plt.imshow(img.numpy(), cmap='Greys_r',  interpolation='nearest')"
   ]
  },
  {
   "cell_type": "code",
   "execution_count": 16,
   "metadata": {},
   "outputs": [
    {
     "data": {
      "text/plain": [
       "<tf.Tensor: id=1545554, shape=(1, 10), dtype=float32, numpy=\n",
       "array([[-0.06689878,  0.0551428 ,  0.18854596, -0.0330027 , -0.28516364,\n",
       "        -0.4146625 , -0.06471877,  0.04957006, -0.05626937,  0.02612707]],\n",
       "      dtype=float32)>"
      ]
     },
     "execution_count": 16,
     "metadata": {},
     "output_type": "execute_result"
    }
   ],
   "source": [
    "diff = latent - sampled_latent\n",
    "number_steps = 10\n",
    "diff = diff/number_steps \n",
    "diff"
   ]
  },
  {
   "cell_type": "code",
   "execution_count": 17,
   "metadata": {},
   "outputs": [
    {
     "data": {
      "text/plain": [
       "(10, 64, 64)"
      ]
     },
     "execution_count": 17,
     "metadata": {},
     "output_type": "execute_result"
    }
   ],
   "source": [
    "middle = sampled_latent\n",
    "frames = []\n",
    "for i in range(number_steps):\n",
    "    out = tf.nn.sigmoid(vae.decoder(middle))\n",
    "    out = tf.squeeze(out)\n",
    "    frames.append(out.numpy())\n",
    "    plt.show()\n",
    "    middle += diff\n",
    "\n",
    "frames = np.stack(frames)\n",
    "frames.shape"
   ]
  },
  {
   "cell_type": "code",
   "execution_count": 18,
   "metadata": {},
   "outputs": [
    {
     "data": {
      "image/png": "[encoded data removed]",
      "text/plain": [
       "<matplotlib.figure.Figure at 0x18ecff7828>"
      ]
     },
     "metadata": {
      "needs_background": "light"
     },
     "output_type": "display_data"
    }
   ],
   "source": [
    "show_images_grid(frames, num_images=10)"
   ]
  },
  {
   "cell_type": "code",
   "execution_count": 19,
   "metadata": {},
   "outputs": [
    {
     "data": {
      "text/plain": [
       "<tf.Tensor: id=1545271, shape=(1, 10), dtype=float32, numpy=\n",
       "array([[ 0.5421554 , -0.18610348,  0.762367  , -1.0539507 , -1.6197629 ,\n",
       "        -2.2077067 , -0.46086726,  0.63261616, -1.3565503 ,  0.66631866]],\n",
       "      dtype=float32)>"
      ]
     },
     "execution_count": 19,
     "metadata": {},
     "output_type": "execute_result"
    },
    {
     "data": {
      "image/png": "[encoded data removed]",
      "text/plain": [
       "<matplotlib.figure.Figure at 0x110eb5978>"
      ]
     },
     "metadata": {
      "needs_background": "light"
     },
     "output_type": "display_data"
    }
   ],
   "source": [
    "out = vae.decoder(latent)\n",
    "out = tf.squeeze(tf.nn.sigmoid(out))\n",
    "\n",
    "plt.imshow(out.numpy(), cmap='Greys_r',  interpolation='nearest')\n",
    "latent"
   ]
  },
  {
   "cell_type": "code",
   "execution_count": 20,
   "metadata": {},
   "outputs": [],
   "source": [
    "def traverse_latent(latent, axis, traverse_length=9, total_step=9):\n",
    "    step_size = traverse_length * 2 / total_step\n",
    "    item = latent[:, axis]\n",
    "    \n",
    "    item_evolution = []\n",
    "    item = item - traverse_length\n",
    "    import copy\n",
    "    for i in range(total_step):\n",
    "        new_latent = copy.deepcopy(latent)\n",
    "        new_latent[:, axis] = item\n",
    "        item_evolution.append(new_latent)\n",
    "        item += step_size\n",
    "        \n",
    "    traversed_latent = np.squeeze(np.stack(item_evolution))\n",
    "    return traversed_latent"
   ]
  },
  {
   "cell_type": "code",
   "execution_count": 22,
   "metadata": {},
   "outputs": [
    {
     "data": {
      "image/png": "[encoded data removed]",
      "text/plain": [
       "<matplotlib.figure.Figure at 0x18ed145240>"
      ]
     },
     "metadata": {
      "needs_background": "light"
     },
     "output_type": "display_data"
    }
   ],
   "source": [
    "all_latent = traverse_latent(latent.numpy(), 3, total_step=10)\n",
    "out = vae.decoder(tf.convert_to_tensor(all_latent))\n",
    "out = tf.squeeze(tf.nn.sigmoid(out))\n",
    "\n",
    "show_images_grid(out.numpy(), 10)"
   ]
  },
  {
   "cell_type": "code",
   "execution_count": null,
   "metadata": {},
   "outputs": [],
   "source": []
  },
  {
   "cell_type": "code",
   "execution_count": null,
   "metadata": {},
   "outputs": [],
   "source": []
  }
 ],
 "metadata": {
  "kernelspec": {
   "display_name": "Python 3",
   "language": "python",
   "name": "python3"
  },
  "language_info": {
   "codemirror_mode": {
    "name": "ipython",
    "version": 3
   },
   "file_extension": ".py",
   "mimetype": "text/x-python",
   "name": "python",
   "nbconvert_exporter": "python",
   "pygments_lexer": "ipython3",
   "version": "3.6.6"
  }
 },
 "nbformat": 4,
 "nbformat_minor": 2
}
